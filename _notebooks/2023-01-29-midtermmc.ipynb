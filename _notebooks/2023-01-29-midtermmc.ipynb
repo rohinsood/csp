{
 "cells": [
  {
   "attachments": {},
   "cell_type": "markdown",
   "metadata": {},
   "source": [
    "# Midterm Exam\n",
    "- description: Week 20 Trimester 2 Midterm Exam"
   ]
  },
  {
   "attachments": {},
   "cell_type": "markdown",
   "metadata": {},
   "source": [
    "![image](https://user-images.githubusercontent.com/68085673/215304969-65efad0e-cf3a-4452-8ab3-b58fa69068bc.png)\n",
    "\n",
    "# Question  13:\n",
    "![image](https://user-images.githubusercontent.com/68085673/215304932-9b45200e-563d-437e-9ba0-1aa75b8645b7.png)\n",
    "\n",
    "## Analysis:\n",
    "- The \"AND\" operator returns true only if both of its arguments are true. I initially thought option III was correct, but later realized option II was the correct answer. This is because if option I were true, it would mean that a student wouldn't be able to vote at age 18 due to the use of the less than or equal to sign. Option II is correct because it states that a person who is 16 or older can drive, but cannot vote until they are 18 or older. Therefore, option II and III, which is the opposite of II, are correct answers. This is because while a person in the desired age range can be exactly 16, they cannot be exactly 18 or they will be allowed to vote.\n",
    "\n",
    "# Question  16:\n",
    "![image](https://user-images.githubusercontent.com/68085673/215305466-d247f4bd-78c8-495b-bd04-764cf2bbd916.png)\n",
    "\n",
    "## Analysis:\n",
    "- I assumed that, like iteration, sequencing, and selection, searching was also a programming structure. But now that I know, it makes total sense, as searching is made up of useing a combination of the other three, and searching can be either sequantial searhc or binary search, which combine programming structures in different ways to make algorithms. Iteration couldn't have been the answer, as that would already be implemented before. Sequencing cannot be the answer, as numbers do not need to be in any order to sum, since addition is commutative. That leaves selection, the correct answer, as each even number muct be selected to add to the sum.\n",
    "\n",
    "# Things to do better:\n",
    "- Read questions more carefully\n",
    "- Don't take as long on each MCQ\n",
    "  - the AP exam is 2 hours for 70 questions, which is less than 2 minutes per question\n",
    "- Make sure to understand the collegeboard language(<- is equals(-), and indexing begins with 1)\n",
    "\n",
    "# Extra Hacks\n",
    " - To better understand what I did wrong, I worked on applying the topics i got wrong within code"
   ]
  },
  {
   "cell_type": "code",
   "execution_count": 14,
   "metadata": {},
   "outputs": [
    {
     "name": "stdout",
     "output_type": "stream",
     "text": [
      "15 is not old enough to vote or drive\n",
      "19 is old enough to vote & drive\n",
      "12 is not old enough to vote or drive\n"
     ]
    }
   ],
   "source": [
    "# Question 16: Boolean expressions\n",
    "import random\n",
    "\n",
    "ages = []\n",
    "[ages.append(random.randint(10, 20)) for i in range(3)]\n",
    "\n",
    "voting_age = 18\n",
    "driving_age = 16\n",
    "\n",
    "for age in ages:\n",
    "  if (age > driving_age and age > voting_age): print(str(age) + \" is old enough to vote & drive\")\n",
    "  elif (age > driving_age and not age > voting_age): print(str(age) + \" is old enough to vote, not old enough to drive\")\n",
    "  else: print(str(age) + \" is not old enough to vote or drive\")\n",
    "\n"
   ]
  },
  {
   "cell_type": "code",
   "execution_count": 16,
   "metadata": {},
   "outputs": [
    {
     "name": "stdout",
     "output_type": "stream",
     "text": [
      "[17, 14, 16]\n",
      "30\n"
     ]
    }
   ],
   "source": [
    "# Question 19: Selection\n",
    "\n",
    "nums = []\n",
    "[nums.append(random.randint(10, 20)) for i in range(3)]\n",
    "summation = 0\n",
    "\n",
    "print(nums)\n",
    "\n",
    "for num in nums:\n",
    "  # this line selects the desired values in the list to be summed\n",
    "  if num % 2 == 0: summation += num\n",
    "\n",
    "print(summation) "
   ]
  }
 ],
 "metadata": {
  "kernelspec": {
   "display_name": "Python 3",
   "language": "python",
   "name": "python3"
  },
  "language_info": {
   "codemirror_mode": {
    "name": "ipython",
    "version": 3
   },
   "file_extension": ".py",
   "mimetype": "text/x-python",
   "name": "python",
   "nbconvert_exporter": "python",
   "pygments_lexer": "ipython3",
   "version": "3.10.8"
  },
  "orig_nbformat": 4,
  "vscode": {
   "interpreter": {
    "hash": "1d2dc5dcf990aaa47f7fbd56bffb5f58fda4d3a3977db6fc2dd988cdc560c2e3"
   }
  }
 },
 "nbformat": 4,
 "nbformat_minor": 2
}
