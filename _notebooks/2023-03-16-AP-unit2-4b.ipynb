{
 "cells": [
  {
   "attachments": {},
   "cell_type": "markdown",
   "metadata": {},
   "source": [
    "#  Using Programs with Data, SQL\n",
    "> Using Programs with Data is focused on SQL and database actions."
   ]
  },
  {
   "attachments": {},
   "cell_type": "markdown",
   "metadata": {},
   "source": [
    "# Database Programming is Program with Data\n",
    "> Each Tri 2 Final Project should be an example of a Program with Data. \n",
    "\n",
    ">  Prepare to use SQLite in common Imperative Technique\n",
    "- Explore [SQLite Connect object](https://www.tutorialspoint.com/python_data_access/python_sqlite_establishing_connection.htm) to establish database connection\n",
    "- Explore [SQLite Cursor Object](https://www.tutorialspoint.com/python_data_access/python_sqlite_cursor_object.htm) to fetch data from a table within a database\n"
   ]
  },
  {
   "attachments": {},
   "cell_type": "markdown",
   "metadata": {},
   "source": [
    "## Schema of Users table in Sqlite.db\n",
    "> Uses PRAGMA statement to read schema.\n",
    "\n",
    "Describe Schema, here is resource [Resource](https://www.sqlite.org/index.html)\n",
    "- What is a database schema?\n",
    "- What is the purpose of identity Column in SQL database?\n",
    "- What is the purpose of a primary key in SQL database?\n",
    "- What are the Data Types in SQL table?"
   ]
  },
  {
   "cell_type": "code",
   "execution_count": 32,
   "metadata": {},
   "outputs": [
    {
     "name": "stdout",
     "output_type": "stream",
     "text": [
      "(0, 'id', 'INTEGER', 1, None, 1)\n",
      "(1, '_name', 'VARCHAR(255)', 0, None, 0)\n",
      "(2, '_team', 'VARCHAR(255)', 0, None, 0)\n",
      "(3, '_position', 'INTEGER', 0, None, 0)\n",
      "(4, '_likes', 'INTEGER', 0, None, 0)\n",
      "(5, '_dislikes', 'INTEGER', 0, None, 0)\n",
      "(6, '_comments', 'BLOB', 0, None, 0)\n"
     ]
    }
   ],
   "source": [
    "import sqlite3\n",
    "\n",
    "database = 'instance/sqlite3.db' # this is location of database\n",
    "\n",
    "def schema():\n",
    "    \n",
    "    # Connect to the database file\n",
    "    conn = sqlite3.connect(database)\n",
    "\n",
    "    # Create a cursor object to execute SQL queries\n",
    "    cursor = conn.cursor()\n",
    "    \n",
    "    # Fetch results of Schema\n",
    "    results = cursor.execute(\"PRAGMA table_info('players')\").fetchall()\n",
    "\n",
    "    # Print the results\n",
    "    for row in results:\n",
    "        print(row)\n",
    "\n",
    "    # Close the database connection\n",
    "    conn.close()\n",
    "    \n",
    "schema()\n"
   ]
  },
  {
   "cell_type": "code",
   "execution_count": 33,
   "metadata": {},
   "outputs": [
    {
     "name": "stdout",
     "output_type": "stream",
     "text": [
      "(1, 'Ike Anigbogu', 'Indiana Pacers', 'C', 1, 1, b\"\\x80\\x05\\x957\\x00\\x00\\x00\\x00\\x00\\x00\\x00]\\x94}\\x94(\\x8c\\x04name\\x94\\x8c\\nDontavious\\x94\\x8c\\x07message\\x94\\x8c\\x0eYou're trash!!\\x94ua.\")\n",
      "(2, 'Ron Baker', 'New York Knicks', 'G', 20, 0, b'\\x80\\x05\\x950\\x00\\x00\\x00\\x00\\x00\\x00\\x00]\\x94}\\x94(\\x8c\\x04name\\x94\\x8c\\nDontavious\\x94\\x8c\\x07message\\x94\\x8c\\x07Mid tbh\\x94ua.')\n",
      "(3, 'Jabari Bird', 'Boston Celtics', 'G', 3, 0, b'\\x80\\x05\\x95Z\\x00\\x00\\x00\\x00\\x00\\x00\\x00]\\x94}\\x94(\\x8c\\x04name\\x94\\x8c\\nDontavious\\x94\\x8c\\x07message\\x94\\x8c13.0/3.0: Great job! You deserve some seed points.\\x94ua.')\n",
      "(4, 'MarShon Brooks', 'Memphis Grizzlies', 'G', 2, 0, b'\\x80\\x05]\\x94.')\n",
      "(6, '', '', '', 0, 0, None)\n",
      "(7, 'Jamal', 'Jamal', 'Jamal', 0, 0, None)\n",
      "(8, '', '', '', 0, 0, None)\n",
      "(9, '', '', '', 0, 0, None)\n"
     ]
    }
   ],
   "source": [
    "import sqlite3\n",
    "\n",
    "def read():\n",
    "    # Connect to the database file\n",
    "    conn = sqlite3.connect(database)\n",
    "\n",
    "    # Create a cursor object to execute SQL queries\n",
    "    cursor = conn.cursor()\n",
    "    \n",
    "    # Execute a SELECT statement to retrieve data from a table\n",
    "    results = cursor.execute('SELECT * FROM players').fetchall()\n",
    "\n",
    "    # Print the results\n",
    "    if len(results) == 0:\n",
    "        print(\"Table is empty\")\n",
    "    else:\n",
    "        for row in results:\n",
    "            print(row)\n",
    "\n",
    "    # Close the cursor and connection objects\n",
    "    cursor.close()\n",
    "    conn.close()\n",
    "    \n",
    "read()\n"
   ]
  },
  {
   "attachments": {},
   "cell_type": "markdown",
   "metadata": {},
   "source": [
    "## Create a new User in table in Sqlite.db\n",
    "> Uses SQL INSERT to add row\n",
    "-  Compore create() in both SQL lessons.  What is better or worse in the two implementations?\n",
    "-  Explain purpose of SQL INSERT.   Is this the same as User __init__?"
   ]
  },
  {
   "cell_type": "code",
   "execution_count": 34,
   "metadata": {},
   "outputs": [
    {
     "name": "stdout",
     "output_type": "stream",
     "text": [
      "A new user record Quintillion has been created\n"
     ]
    }
   ],
   "source": [
    "import sqlite3\n",
    "\n",
    "from sqlalchemy import PickleType\n",
    "\n",
    "def create():\n",
    "    player_name = input(\"Enter a player name: \")\n",
    "    team_name = input(\"Enter the player's team name: \")\n",
    "    position = input(\"Enter the player's position: \")\n",
    "    \n",
    "    # Connect to the database file\n",
    "    conn = sqlite3.connect(database)\n",
    "\n",
    "    # Create a cursor object to execute SQL commands\n",
    "    cursor = conn.cursor()\n",
    "\n",
    "    try:\n",
    "        # Execute an SQL command to insert data into a table\n",
    "        cursor.execute(\"INSERT INTO players (_name, _team, _position, _likes, _dislikes) VALUES (?, ?, ?, ?, ?)\", (player_name, team_name, position, 0, 0))\n",
    "        \n",
    "        # Commit the changes to the database\n",
    "        conn.commit()\n",
    "        print(f\"A new user record {player_name} has been created\")\n",
    "                \n",
    "    except sqlite3.Error as error:\n",
    "        print(\"Error while executing the INSERT:\", error)\n",
    "\n",
    "\n",
    "    # Close the cursor and connection objects\n",
    "    cursor.close()\n",
    "    conn.close()\n",
    "    \n",
    "create()"
   ]
  },
  {
   "attachments": {},
   "cell_type": "markdown",
   "metadata": {},
   "source": [
    "## Updating a User in table in Sqlite.db\n",
    "> Uses SQL UPDATE to modify password\n",
    "- What does the hacked part do?\n",
    "- Explain try/except, when would except occur?\n",
    "- What code seems to be repeated in each of these examples to point, why is it repeated?"
   ]
  },
  {
   "cell_type": "code",
   "execution_count": 35,
   "metadata": {},
   "outputs": [
    {
     "name": "stdout",
     "output_type": "stream",
     "text": [
      "No uid 1 was not found in the table\n",
      "No uid 2 was not found in the table\n"
     ]
    }
   ],
   "source": [
    "import sqlite3\n",
    "\n",
    "def updateLikes():\n",
    "    pid = input(\"Enter player ID to update: \")\n",
    "    likes = input(\"Enter new likes: \")\n",
    "    \n",
    "    # Connect to the database file\n",
    "    conn = sqlite3.connect(database)\n",
    "\n",
    "    # Create a cursor object to execute SQL commands\n",
    "    cursor = conn.cursor()\n",
    "\n",
    "    try:\n",
    "        # Execute an SQL command to update data in a table\n",
    "        cursor.execute(\"UPDATE players SET _likes = ? WHERE id = ?\", (pid, likes))\n",
    "        if cursor.rowcount == 0:\n",
    "            # The uid was not found in the table\n",
    "            print(f\"No uid {pid} was not found in the table\")\n",
    "        else:\n",
    "            print(f\"The row with user id {pid} has the new likes: {likes}\")\n",
    "            conn.commit()\n",
    "    except sqlite3.Error as error:\n",
    "        print(\"Error while executing the UPDATE:\", error)\n",
    "    \n",
    "    # Close the cursor and connection objects\n",
    "    cursor.close()\n",
    "    conn.close()\n",
    "\n",
    "def updateDislikes():\n",
    "    pid = input(\"Enter player ID to update: \")\n",
    "    dislikes = input(\"Enter new dislikes: \")\n",
    "    \n",
    "    # Connect to the database file\n",
    "    conn = sqlite3.connect(database)\n",
    "\n",
    "    # Create a cursor object to execute SQL commands\n",
    "    cursor = conn.cursor()\n",
    "\n",
    "    try:\n",
    "        # Execute an SQL command to update data in a table\n",
    "        cursor.execute(\"UPDATE players SET _dislikes = ? WHERE id = ?\", (pid, dislikes))\n",
    "        if cursor.rowcount == 0:\n",
    "            # The uid was not found in the table\n",
    "            print(f\"No uid {pid} was not found in the table\")\n",
    "        else:\n",
    "            print(f\"The row with user id {pid} has the new dislikes: {dislikes}\")\n",
    "            conn.commit()\n",
    "    except sqlite3.Error as error:\n",
    "        print(\"Error while executing the UPDATE:\", error)\n",
    "        \n",
    "    # Close the cursor and connection objects\n",
    "    cursor.close()\n",
    "    conn.close()\n",
    "\n",
    "updateLikes()\n",
    "updateDislikes()\n"
   ]
  },
  {
   "attachments": {},
   "cell_type": "markdown",
   "metadata": {},
   "source": [
    "## Delete a User in table in Sqlite.db\n",
    "> Uses a delete function to remove a user based on a user input of the id.\n",
    "- Is DELETE a dangerous operation?  Why?\n",
    "- In the print statemements, what is the \"f\" and what does {uid} do?"
   ]
  },
  {
   "cell_type": "code",
   "execution_count": 36,
   "metadata": {},
   "outputs": [
    {
     "name": "stdout",
     "output_type": "stream",
     "text": [
      "The row with id 4 was successfully deleted\n"
     ]
    }
   ],
   "source": [
    "import sqlite3\n",
    "\n",
    "def delete():\n",
    "    pid = input(\"Enter user id to delete\")\n",
    "\n",
    "    # Connect to the database file\n",
    "    conn = sqlite3.connect(database)\n",
    "\n",
    "    # Create a cursor object to execute SQL commands\n",
    "    cursor = conn.cursor()\n",
    "    \n",
    "    try:\n",
    "        cursor.execute(\"DELETE FROM players WHERE id = ?\", (pid))\n",
    "        if cursor.rowcount == 0:\n",
    "            # The uid was not found in the table\n",
    "            print(f\"No id {pid} was not found in the table\")\n",
    "        else:\n",
    "            # The uid was found in the table and the row was deleted\n",
    "            print(f\"The row with id {pid} was successfully deleted\")\n",
    "        conn.commit()\n",
    "    except sqlite3.Error as error:\n",
    "        print(\"Error while executing the DELETE:\", error)\n",
    "        \n",
    "    # Close the cursor and connection objects\n",
    "    cursor.close()\n",
    "    conn.close()\n",
    "\n",
    "delete()\n",
    "    "
   ]
  },
  {
   "attachments": {},
   "cell_type": "markdown",
   "metadata": {},
   "source": [
    "# Menu Interface to CRUD operations\n",
    "> CRUD and Schema interactions from one location by running menu. Observe input at the top of VSCode, observe output underneath code cell.\n",
    "- Why does the menu repeat?\n",
    "- Could you refactor this menu?  Make it work with a List?"
   ]
  },
  {
   "cell_type": "code",
   "execution_count": 38,
   "metadata": {},
   "outputs": [
    {
     "name": "stdout",
     "output_type": "stream",
     "text": [
      "(1, 'Ike Anigbogu', 'Indiana Pacers', 'C', 0, 20, b\"\\x80\\x05\\x957\\x00\\x00\\x00\\x00\\x00\\x00\\x00]\\x94}\\x94(\\x8c\\x04name\\x94\\x8c\\nDontavious\\x94\\x8c\\x07message\\x94\\x8c\\x0eYou're trash!!\\x94ua.\")\n",
      "(2, 'Ron Baker', 'New York Knicks', 'G', 20, 0, b'\\x80\\x05\\x950\\x00\\x00\\x00\\x00\\x00\\x00\\x00]\\x94}\\x94(\\x8c\\x04name\\x94\\x8c\\nDontavious\\x94\\x8c\\x07message\\x94\\x8c\\x07Mid tbh\\x94ua.')\n",
      "(3, 'Jabari Bird', 'Boston Celtics', 'G', 3, 0, b'\\x80\\x05\\x95Z\\x00\\x00\\x00\\x00\\x00\\x00\\x00]\\x94}\\x94(\\x8c\\x04name\\x94\\x8c\\nDontavious\\x94\\x8c\\x07message\\x94\\x8c13.0/3.0: Great job! You deserve some seed points.\\x94ua.')\n",
      "(4, 'MarShon Brooks', 'Memphis Grizzlies', 'G', 0, 0, b'\\x80\\x05]\\x94.')\n",
      "A new user record mugsy boegs has been created\n",
      "(1, 'Ike Anigbogu', 'Indiana Pacers', 'C', 0, 20, b\"\\x80\\x05\\x957\\x00\\x00\\x00\\x00\\x00\\x00\\x00]\\x94}\\x94(\\x8c\\x04name\\x94\\x8c\\nDontavious\\x94\\x8c\\x07message\\x94\\x8c\\x0eYou're trash!!\\x94ua.\")\n",
      "(2, 'Ron Baker', 'New York Knicks', 'G', 20, 0, b'\\x80\\x05\\x950\\x00\\x00\\x00\\x00\\x00\\x00\\x00]\\x94}\\x94(\\x8c\\x04name\\x94\\x8c\\nDontavious\\x94\\x8c\\x07message\\x94\\x8c\\x07Mid tbh\\x94ua.')\n",
      "(3, 'Jabari Bird', 'Boston Celtics', 'G', 3, 0, b'\\x80\\x05\\x95Z\\x00\\x00\\x00\\x00\\x00\\x00\\x00]\\x94}\\x94(\\x8c\\x04name\\x94\\x8c\\nDontavious\\x94\\x8c\\x07message\\x94\\x8c13.0/3.0: Great job! You deserve some seed points.\\x94ua.')\n",
      "(4, 'MarShon Brooks', 'Memphis Grizzlies', 'G', 0, 0, b'\\x80\\x05]\\x94.')\n",
      "(5, 'mugsy boegs', 'hornets', 'PG', 0, 0, None)\n",
      "The row with id 5 was successfully deleted\n",
      "(1, 'Ike Anigbogu', 'Indiana Pacers', 'C', 0, 20, b\"\\x80\\x05\\x957\\x00\\x00\\x00\\x00\\x00\\x00\\x00]\\x94}\\x94(\\x8c\\x04name\\x94\\x8c\\nDontavious\\x94\\x8c\\x07message\\x94\\x8c\\x0eYou're trash!!\\x94ua.\")\n",
      "(2, 'Ron Baker', 'New York Knicks', 'G', 20, 0, b'\\x80\\x05\\x950\\x00\\x00\\x00\\x00\\x00\\x00\\x00]\\x94}\\x94(\\x8c\\x04name\\x94\\x8c\\nDontavious\\x94\\x8c\\x07message\\x94\\x8c\\x07Mid tbh\\x94ua.')\n",
      "(3, 'Jabari Bird', 'Boston Celtics', 'G', 3, 0, b'\\x80\\x05\\x95Z\\x00\\x00\\x00\\x00\\x00\\x00\\x00]\\x94}\\x94(\\x8c\\x04name\\x94\\x8c\\nDontavious\\x94\\x8c\\x07message\\x94\\x8c13.0/3.0: Great job! You deserve some seed points.\\x94ua.')\n",
      "(4, 'MarShon Brooks', 'Memphis Grizzlies', 'G', 0, 0, b'\\x80\\x05]\\x94.')\n"
     ]
    }
   ],
   "source": [
    "# Menu, to run other cells from one control point\n",
    "def menu():\n",
    "    operation = input(\"Enter: (C)reate (R)ead (U)pdate or (D)elete or (S)chema\")\n",
    "    if operation.lower() == 'c':\n",
    "        create()\n",
    "    elif operation.lower() == 'r':\n",
    "        read()\n",
    "    elif operation.lower() == 'ul':\n",
    "        updateLikes()\n",
    "    elif operation.lower() == 'ud':\n",
    "        updateDislikes()\n",
    "    elif operation.lower() == 'd':\n",
    "        delete()\n",
    "    elif operation.lower() == 's':\n",
    "        schema()\n",
    "    elif len(operation)==0: # Escape Key\n",
    "        return\n",
    "    else:\n",
    "        print(\"Please enter c, r, u, or d\") \n",
    "    menu() # recursion, repeat menu\n",
    "        \n",
    "try:\n",
    "    menu() # start menu\n",
    "except:\n",
    "    print(\"Perform Jupyter 'Run All' prior to starting menu\")\n"
   ]
  },
  {
   "attachments": {},
   "cell_type": "markdown",
   "metadata": {},
   "source": [
    " - Describe Schema, here is resource Resource- What is a database schema?\n",
    "   - This queries and returns the database in question\n",
    "   - What is the purpose of identity Column in SQL database?\n",
    "     - To find a column of data within a SQLDatabase\n",
    "   - What is the purpose of a primary key in SQL database?\n",
    "     - Easily identifies a row of data\n",
    "   - What are the Data Types in SQL table?\n",
    "     - SQLAlchemy library Objects of different primitive types\n",
    " - What is a connection object? After you google it, what do you think it does?\n",
    "   - Instantionates a connection to the database\n",
    " - Same for cursor object?\n",
    "   - the cursor object allows you to edit the databse through means of its methods\n",
    " - Look at conn object and cursor object in VSCode debugger. What attributes are in the object?\n",
    "   - The attributes are x, y, z and etc\n",
    " - Is \"results\" an object? How do you know?\n",
    "   - no, results is a dictionary. I know because i checked the debugger\n",
    " - Compore create() in both SQL lessons. What is better or worse in the two implementations?\n",
    "   - THis is more difficult as you don't craete an object and instead have to create a request\n",
    " - Explain purpose of SQL INSERT. Is this the same as User init?\n",
    "   - This is a type of request that allows you to do tangs\n"
   ]
  }
 ],
 "metadata": {
  "kernelspec": {
   "display_name": "Python 3",
   "language": "python",
   "name": "python3"
  },
  "language_info": {
   "codemirror_mode": {
    "name": "ipython",
    "version": 3
   },
   "file_extension": ".py",
   "mimetype": "text/x-python",
   "name": "python",
   "nbconvert_exporter": "python",
   "pygments_lexer": "ipython3",
   "version": "3.11.0 (main, Oct 24 2022, 18:26:48) [MSC v.1933 64 bit (AMD64)]"
  },
  "orig_nbformat": 4,
  "vscode": {
   "interpreter": {
    "hash": "c261aea317cc0286b3b3261fbba9abdec21eaa57589985bb7a274bf54d6cc0a7"
   }
  }
 },
 "nbformat": 4,
 "nbformat_minor": 2
}
