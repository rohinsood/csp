{
 "cells": [
  {
   "attachments": {},
   "cell_type": "markdown",
   "metadata": {},
   "source": [
    "# Binary Lesson\n",
    "\n",
    "- toc: true\n",
    "- permalink: /binary/lesson\n",
    "- comments: true\n",
    "- categories: [week 31, binary, lesson]"
   ]
  },
  {
   "attachments": {},
   "cell_type": "markdown",
   "metadata": {},
   "source": [
    "# Lesson Note Taker\n",
    "> Fill in the blanks below during the binary presentation. You can visit our [website here!](https://theoh32.github.io/Runtime_Terror/2023-3-30-mainlesson.html)\n",
    "^ Due to last minute deployment issues, may need to run a local server\n",
    "\n",
    "1. git clone https://github.com/TheoH32/Runtime_Terror.git\n",
    "2. run: \n",
    "- bundle install\n",
    "- bundle exec jekyll serve"
   ]
  },
  {
   "attachments": {},
   "cell_type": "markdown",
   "metadata": {},
   "source": [
    "## Binary \n",
    "\n",
    "1. Binary is a base 2 number system.\n",
    "2. 0 represents off and 1 represents on.\n",
    "3. A bit is the minimum unit of binary information stored in a computer system.\n",
    "\n",
    "## Boolean Expressions\n",
    "\n",
    "1. A boolean expression is a logical statement that is either TRUE or FALSE and compares data.\n",
    "\n",
    "## Truth Tables\n",
    "\n",
    "1. The logical operations shown in truth tables are AND, OR, NOT, and XOR."
   ]
  },
  {
   "cell_type": "code",
   "execution_count": 1,
   "metadata": {},
   "outputs": [
    {
     "data": {
      "text/plain": [
       "True"
      ]
     },
     "execution_count": 1,
     "metadata": {},
     "output_type": "execute_result"
    }
   ],
   "source": [
    "# Run this code!! See how boolean expressions work and show the outputs of truth tables.\n",
    "\n",
    "# AND\n",
    "5 > 3 and 5 == 3 + 2"
   ]
  },
  {
   "cell_type": "code",
   "execution_count": 2,
   "metadata": {},
   "outputs": [
    {
     "data": {
      "text/plain": [
       "False"
      ]
     },
     "execution_count": 2,
     "metadata": {},
     "output_type": "execute_result"
    }
   ],
   "source": [
    "\n",
    "5 < 3 and 5 == 5"
   ]
  },
  {
   "cell_type": "code",
   "execution_count": 3,
   "metadata": {},
   "outputs": [
    {
     "data": {
      "text/plain": [
       "True"
      ]
     },
     "execution_count": 3,
     "metadata": {},
     "output_type": "execute_result"
    }
   ],
   "source": [
    "# OR\n",
    "5 == 5 or 5 != 5"
   ]
  },
  {
   "cell_type": "code",
   "execution_count": 4,
   "metadata": {},
   "outputs": [
    {
     "data": {
      "text/plain": [
       "False"
      ]
     },
     "execution_count": 4,
     "metadata": {},
     "output_type": "execute_result"
    }
   ],
   "source": [
    "5 < 3 or 5 != 5"
   ]
  },
  {
   "attachments": {},
   "cell_type": "markdown",
   "metadata": {},
   "source": [
    "### Real Life Example using Boolean Expressions\n",
    "\n",
    "Try changing the conditions and/or the logical operation below! Run the code to see if you are eligible to vote."
   ]
  },
  {
   "cell_type": "code",
   "execution_count": 1,
   "metadata": {},
   "outputs": [
    {
     "name": "stdout",
     "output_type": "stream",
     "text": [
      "You are not eligible to vote.\n"
     ]
    }
   ],
   "source": [
    "# Real life example\n",
    "age = 16\n",
    "citizen = False\n",
    "\n",
    "if age < 18 or not citizen:\n",
    "    print(\"You are not eligible to vote.\")\n",
    "else:\n",
    "    print(\"You are eligible to vote.\")"
   ]
  },
  {
   "attachments": {},
   "cell_type": "markdown",
   "metadata": {},
   "source": [
    "## Binary Conversions\n",
    "\n",
    "### Binary to Decimal\n",
    "\n",
    "1. We can count in binary by using powers of 2.\n",
    "2. In binary, we read from right to left.\n",
    "3. 0111 has a value of 7.\n",
    "\n",
    "\n",
    "### Binary Search\n",
    "\n",
    "1. For a binary search, the list must be sorted. \n",
    "2. In a binary search, computers start at the middle.\n",
    "3. The number of steps required in a binary search follows the equation: log(n) + 1.\n",
    "4. Binary searches also work with a list of strings. We can sort them alphabetically.\n",
    "5. Binary searches can be represented in tree diagrams."
   ]
  },
  {
   "attachments": {},
   "cell_type": "markdown",
   "metadata": {},
   "source": [
    "# Hacks\n",
    "> You will NOT be awarded any points for sections that are INCOMPLETE\n",
    "\n",
    "### Note Taker\n",
    "\n",
    "1. Fill in all of the blanks above.\n",
    "\n",
    "### Lesson Quiz\n",
    "\n",
    "1. Complete the lesson quiz\n",
    "2. SCREENSHOT SCORE and paste it here (or paste screenshot with submission)\n",
    "\n",
    "### Binary Game\n",
    "\n",
    "1. Complete the Binary game and reach a minimum score of 10! \n",
    "2. SCREENSHOT SCORE and paste it here (or with submission)"
   ]
  },
  {
   "attachments": {},
   "cell_type": "markdown",
   "metadata": {},
   "source": [
    "### Binary Conversions Practice\n",
    "\n",
    "1. Convert the decimal number \"17\" into binary.\n",
    "0b10001\n",
    "2. Convert the binary number 1010 into decimal.\n",
    "10\n",
    "3. Convert the decimal number \"122\" into hexadecimal.\n",
    "0x7A\n",
    "4. Convert the hexadecimal number \"09\" into binary.\n",
    "0b1001"
   ]
  },
  {
   "attachments": {},
   "cell_type": "markdown",
   "metadata": {},
   "source": [
    "### Binary Search Questions\n",
    "\n",
    "1. Make a binary search tree of different the list [1,2,4,15,25,30,31]\n",
    "```\n",
    "          _________15_________\n",
    "         /                    \\\n",
    "     ____2____              __25__\n",
    "    /         \\            /      \\\n",
    "   1           4         _30      31\n",
    "                        /\n",
    "                       25\n",
    "```\n",
    "2. Put this list of strings in a order that can be used for binary search [\"Donut”,\"Cake”,\"Soda”,\"Banana”,\"Fruit”]\n",
    "`[\"Banana\", \"Cake\", \"Donut\", \"Fruit\", \"Soda\"]`\n",
    "3. Explain why Binary Search is more efficient than Sequential Search.\n",
    "Binary search is more efficient than sequential search for sorted list because its time complexity is O(logn) vs O(n) "
   ]
  },
  {
   "attachments": {},
   "cell_type": "markdown",
   "metadata": {},
   "source": [
    "### Extra Credit:\n",
    "\n",
    "- Translate the binary number, 1001010, into octal (base 8). <mark>SHOW YOUR WORK AND EXPLAIN YOUR THINKING.</mark>\n",
    "\n",
    "```\n",
    "1  0  0  1  0  1  0\n",
    "64 32 16 8  4  2  1\n",
    "\n",
    "64 + 8 + 2 = 74\n",
    "\n",
    "\n",
    "74 - 64 = 10\n",
    "10 - 8 = 2\n",
    "\n",
    "1   1  2\n",
    "64  8  1\n",
    "\n",
    "Answer: 112\n",
    "```\n",
    "\n",
    "OR\n",
    "- write the best rap line (determined during the lesson by group)\n",
    "\n",
    "Samarth the rapper's rhymes are hot, he spits fire like a dragon\n",
    "But when it comes to binary code, his knowledge is laggin'\n",
    "He knows his ABCs and his 123s, he's got a way with words\n",
    "But when it comes to ones and zeroes, he's like a flock of nerds\n",
    "\n",
    "He's got the rhythm, he's got the flow, he's a master of his craft\n",
    "But when it comes to coding, he's like a car that's run out of gas\n",
    "He'll keep on rhyming, he'll keep on shining, he won't be deterred\n",
    "But when it comes to binary, he's like a deer in the headlights, blurred\n",
    "\n",
    "He's got the rhymes, he's got the beats, he's got the style and flair\n",
    "But when it comes to binary code, he's like a fish out of water, gasping for air\n",
    "He'll keep on spitting, he'll keep on hitting, he'll keep on shining bright\n",
    "But when it comes to coding, he's like a blind man in a dark night\n",
    "\n",
    "So Samarth the rapper, he's got bars for days, he's a lyrical mastermind\n",
    "But when it comes to binary, he's like a blindfolded man trying to find\n",
    "His way through a maze, he's like a bird that's lost its wings and can't fly\n",
    "But when it comes to rhyming, he's a genius, a star that shines up in the sky.\n",
    "\n",
    "He's got the rhythm, he's got the flow, he's a master of his craft\n",
    "But when it comes to coding, he's like a car that's run out of gas\n",
    "He'll keep on spitting, he'll keep on hitting, he'll keep on shining bright\n",
    "But when it comes to coding, he's like a blind man in a dark night\n",
    "\n",
    "He's got the rhythm, he's got the flow, he's a master of his craft\n",
    "But his coding skills are like a car that's lost its gas\n",
    "He'll keep on spitting, he'll keep on hitting, he's a star that shines so bright\n",
    "But when it comes to binary code, he's like a blind man struggling in the dark of night"
   ]
  },
  {
   "attachments": {},
   "cell_type": "markdown",
   "metadata": {},
   "source": [
    "# Hacks Scoring\n",
    "\n",
    "| Hack | Comments | Grade |\n",
    "|---|---|---|\n",
    "| Note Taker | fill in the blanks above | 0.1 |\n",
    "| Lesson Quiz | under 100% = 0.1 only | 0.2 |\n",
    "| Binary Game | must score at least 10 points | 0.2 |\n",
    "| Binary Conversions Practice | if incorrect= 0.2 awarded | 0.2 |\n",
    "| Binary Search Questions | if incorrect= 0.2 awarded | 0.2 |\n",
    "| Extra Credit | MUST SHOW WORK | 0.1 |\n",
    "| Total | expected= 0.9/1 | 1/1 |"
   ]
  }
 ],
 "metadata": {
  "kernelspec": {
   "display_name": "Python 3",
   "language": "python",
   "name": "python3"
  },
  "language_info": {
   "codemirror_mode": {
    "name": "ipython",
    "version": 3
   },
   "file_extension": ".py",
   "mimetype": "text/x-python",
   "name": "python",
   "nbconvert_exporter": "python",
   "pygments_lexer": "ipython3",
   "version": "3.11.0 (main, Oct 24 2022, 18:26:48) [MSC v.1933 64 bit (AMD64)]"
  },
  "orig_nbformat": 4,
  "vscode": {
   "interpreter": {
    "hash": "c261aea317cc0286b3b3261fbba9abdec21eaa57589985bb7a274bf54d6cc0a7"
   }
  }
 },
 "nbformat": 4,
 "nbformat_minor": 2
}
