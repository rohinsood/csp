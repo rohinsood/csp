{
 "cells": [
  {
   "cell_type": "markdown",
   "metadata": {},
   "source": [
    "# Weather API\n",
    "> Weather API usage\n",
    "\n",
    "- toc: false\n",
    "- branch: master\n",
    "- badges: true\n",
    "- comments: true\n",
    "- categories: [python, jupyter]\n",
    "- image: images/python-logo.png\n",
    "- hide: false\n",
    "- search_exclude: true"
   ]
  },
  {
   "cell_type": "code",
   "execution_count": null,
   "metadata": {
    "vscode": {
     "languageId": "javascript"
    }
   },
   "outputs": [],
   "source": [
    "const options = {\n",
    "  method: 'GET',\n",
    "  headers: {\n",
    "    'X-RapidAPI-Key': '9275b62a1fmsh3b832340dafb492p1abc77jsn58ef554feee6',\n",
    "    'X-RapidAPI-Host': 'forecast9.p.rapidapi.com'\n",
    "  }\n",
    "};\n",
    "\n",
    "var response = fetch('https://forecast9.p.rapidapi.com/rapidapi/forecast/Berlin/hourly/', options)\n",
    "  .then(response => response.json())\n",
    "  .then(response => console.log(response))\n",
    "  .catch(err => console.error(err));"
   ]
  }
 ],
 "metadata": {
  "kernelspec": {
   "display_name": "Python 3.10.7 64-bit (windows store)",
   "language": "python",
   "name": "python3"
  },
  "language_info": {
   "name": "python",
   "version": "3.10.8"
  },
  "orig_nbformat": 4,
  "vscode": {
   "interpreter": {
    "hash": "1d2dc5dcf990aaa47f7fbd56bffb5f58fda4d3a3977db6fc2dd988cdc560c2e3"
   }
  }
 },
 "nbformat": 4,
 "nbformat_minor": 2
}
