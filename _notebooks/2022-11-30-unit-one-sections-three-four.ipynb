{
 "cells": [
  {
   "cell_type": "markdown",
   "metadata": {},
   "source": [
    "# \"CB Units 3 & 4 Lesson Homework\"\n",
    "> \"My answers to this lessons homework\"\n",
    "\n",
    "- toc: true\n",
    "- badges: true\n",
    "- comments: true\n",
    "- search_exclude: false"
   ]
  },
  {
   "cell_type": "markdown",
   "metadata": {},
   "source": [
    "# 3.3 Example #1"
   ]
  },
  {
   "cell_type": "code",
   "execution_count": 1,
   "metadata": {},
   "outputs": [
    {
     "name": "stdout",
     "output_type": "stream",
     "text": [
      "Hello\n",
      "0\n",
      "bummy num\n",
      "2\n",
      "bummy num\n",
      "4\n",
      "bummy num\n",
      "6\n",
      "bummy num\n",
      "8\n",
      "bummy num\n"
     ]
    }
   ],
   "source": [
    "print(\"Hello\")\n",
    "for i in range(10):\n",
    "    print(i) if (i**2 % 2 == 0) else print(\"bummy num\")"
   ]
  },
  {
   "cell_type": "markdown",
   "metadata": {},
   "source": [
    "## Explanation\n",
    " - **Everything** is sequencing <br>\n",
    "   - **`for i in range(10)`** is iteration, as it iterates over the iterable object returned by the range function. <br>\n",
    "   - **`print(i) if (i**2 % 2 == 0) else print(\"bummy num\")`** is selection, as it selects when to print i"
   ]
  },
  {
   "cell_type": "markdown",
   "metadata": {},
   "source": [
    "# 3.3 Example #2"
   ]
  },
  {
   "cell_type": "code",
   "execution_count": 2,
   "metadata": {},
   "outputs": [
    {
     "name": "stdout",
     "output_type": "stream",
     "text": [
      "e\n",
      "m\n",
      "r\n",
      "b\n",
      "o\n"
     ]
    }
   ],
   "source": [
    "for letter in \"TeAmBrObRo\":\n",
    "    print(letter) if letter.islower() else letter.isalnum\n",
    "    "
   ]
  },
  {
   "cell_type": "markdown",
   "metadata": {},
   "source": [
    "## Explanation\n",
    " - **Everything** is sequencing <br>\n",
    "   - **`for i in range(5)`** is iteration, as it iterates over the range `[1,5]`. <br>\n",
    "   - **`if num % 2 == 1`** is selection, as it selects for a odd number"
   ]
  },
  {
   "cell_type": "markdown",
   "metadata": {},
   "source": [
    "# 3.3 Video #2 HW\n",
    "\n",
    "1. Find the value for a, b, c, d\n",
    "- a = 1, b = 7, c = 3, d = 7\n",
    "<br>\n",
    "2. What are the values of hot and cold after executing the code segment?\n",
    "- Hot = true, cold = true"
   ]
  },
  {
   "cell_type": "markdown",
   "metadata": {},
   "source": [
    "# 3.3 Code Segments"
   ]
  },
  {
   "cell_type": "markdown",
   "metadata": {},
   "source": [
    "```\n",
    "{\n",
    "a = 1\n",
    "b = 2\n",
    "c = 3\n",
    "d = 4\n",
    "e = 5\n",
    "\n",
    "result = a MOD b MOD c MOD d MOD e \n",
    "display(result)\n",
    "}\n",
    "```"
   ]
  },
  {
   "cell_type": "markdown",
   "metadata": {},
   "source": [
    "Answer: 1 mod 2 mod 3 mod 4 mod 5 = `1`"
   ]
  },
  {
   "cell_type": "markdown",
   "metadata": {},
   "source": [
    "```\n",
    "{\n",
    "    a = 1\n",
    "    b = 2\n",
    "    c = a+b\n",
    "    d = a+b+c\n",
    "    e = (a+b+c+d)/(d-b)\n",
    "    display(e)\n",
    "}\n",
    "```"
   ]
  },
  {
   "cell_type": "markdown",
   "metadata": {},
   "source": [
    "Answer: "
   ]
  },
  {
   "cell_type": "markdown",
   "metadata": {},
   "source": [
    "c = 3 <br>\n",
    "d = 6 <br>\n",
    "e = 1+2+3+6/(6-2) = 12/4 = <br>\n",
    "`3`"
   ]
  },
  {
   "cell_type": "markdown",
   "metadata": {},
   "source": [
    "# 3.4 HW\n",
    "1. SmithB@gmail.com\n",
    "2. ompuook"
   ]
  }
 ],
 "metadata": {
  "kernelspec": {
   "display_name": "Python 3.10.8 64-bit (windows store)",
   "language": "python",
   "name": "python3"
  },
  "language_info": {
   "codemirror_mode": {
    "name": "ipython",
    "version": 3
   },
   "file_extension": ".py",
   "mimetype": "text/x-python",
   "name": "python",
   "nbconvert_exporter": "python",
   "pygments_lexer": "ipython3",
   "version": "3.10.8"
  },
  "orig_nbformat": 4,
  "vscode": {
   "interpreter": {
    "hash": "1d2dc5dcf990aaa47f7fbd56bffb5f58fda4d3a3977db6fc2dd988cdc560c2e3"
   }
  }
 },
 "nbformat": 4,
 "nbformat_minor": 2
}
