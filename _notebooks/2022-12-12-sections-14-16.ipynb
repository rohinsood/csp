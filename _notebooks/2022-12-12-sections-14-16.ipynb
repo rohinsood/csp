{
 "cells": [
  {
   "cell_type": "markdown",
   "metadata": {},
   "source": [
    "# Unit 3 Sections 14-16 Homework\n",
    "> My answers to this lesson's homework\n",
    "\n",
    "- toc: true\n",
    "- badges: true\n",
    "- comments: true\n",
    "- categories: [csp]"
   ]
  },
  {
   "attachments": {},
   "cell_type": "markdown",
   "metadata": {},
   "source": [
    "<strong>(1) Reflection</strong>\n",
    "\n",
    " - This lesson emphasized ways that which code can be efficiently and effectively written through use of libraries, documentation, and APIs. Libraries consist of pre-written code that can be utilizing in other programs. They help to simplify code by storing code segments and features in a separate place, this way, the code being run only has code that the user has written. A library's documentation describes the different features of a library."
   ]
  },
  {
   "attachments": {},
   "cell_type": "markdown",
   "metadata": {},
   "source": [
    "<strong>(2) Multiple Choice</strong>"
   ]
  },
  {
   "attachments": {},
   "cell_type": "markdown",
   "metadata": {},
   "source": [
    "1. What does the random(a,b) function generate? \n",
    "\n",
    "**B. A random integer from a to b inclusive.**\n",
    "\n",
    "2. What is x, y, and z in random.randrange(x, y, z)?\n",
    "\n",
    "**A. x = start, y = stop, z = step**\n",
    "\n",
    "3. Which of the following is NOT part of the random library?\n",
    "\n",
    "**A. random.item**\n"
   ]
  },
  {
   "attachments": {},
   "cell_type": "markdown",
   "metadata": {},
   "source": [
    "<strong>(3) Short Answer Questions</strong>\n",
    "\n",
    "1. What is the advantage of using libraries? \n",
    " - Libraries help to simplify complex programs by allowing the code to reference pre-written code. This reduces the workload for the user writing the code and improves reliability. \n",
    "\n",
    "2. Write a thorough documentation of the following code."
   ]
  },
  {
   "cell_type": "code",
   "execution_count": 1,
   "metadata": {},
   "outputs": [
    {
     "name": "stdout",
     "output_type": "stream",
     "text": [
      " Biden is going to buy the meal today!\n"
     ]
    }
   ],
   "source": [
    "import random \n",
    "\n",
    "# stores user input in the variable names_string\n",
    "names_string = input(\"Give me everybody's names, seperated by a comma.\")\n",
    "\n",
    "# splits the user input by the character, \",\", and stores each element in the list names\n",
    "names = names_string.split(\",\")\n",
    "\n",
    "# determines the number of elements in names\n",
    "num_items = len(names)\n",
    "\n",
    "# finds a random number between num_items-1 & 0\n",
    "random_choice = random.randint(0, num_items - 1)\n",
    "\n",
    "# uses the random number to access an index of the names_list\n",
    "person_who_will_pay = names[random_choice]\n",
    "\n",
    "print(f\"{person_who_will_pay} is going to buy the meal today!\")"
   ]
  },
  {
   "attachments": {},
   "cell_type": "markdown",
   "metadata": {},
   "source": [
    "<strong>(4) Coding Challenges!</strong>\n",
    "\n",
    "<mark>REQUIRED<mark>: Create programs in python to complete the two task\n",
    "\n",
    "1. Create a program to pick five random names from a list of at least 15 names\n",
    "2. Create a program to simulate a dice game where each player rolls two fair dice (6 sides); the player with the greater sum wins\n",
    "\n",
    "<mark>EXTRA-CREDIT OPPORTUNITY</mark>: \n",
    "\n",
    "3. Create a program to randomly generate one of those 5x5 square CollegeBoard robot courses frequently seen in these lessons. Here are the criteria:\n",
    "\n",
    "- No need to create a graphical user interface (output the course in graphical form); that would be too demanding. You can use store your randomizations in variables to be printed, after which you can sketch one instance of your output using any means (handdrawn, google drawings, etc.) to attach to your submission as an image.\n",
    "\n",
    "- Your illustration can differ graphically from CollegeBoard's illustrations as long as the robot, its direction, the wall squares, and the goal square are fairly self-evident (ie you can make the goal a present or food instead of a gray square)\n",
    "\n",
    "You must randomize the following:\n",
    "\n",
    "1. Initial direction of the robot (up, down, left, right)\n",
    "1. Initial Position of the robot\n",
    "1. Goal position\n",
    "1. Positions of at least 12 wall/obstacle squares\n",
    "\n",
    "The latter three must be mutually exclusive (on different squares). This prevents you from generating a course where the robot is on the goal, on a wall square, or the goal is in a wall square\n",
    "\n",
    "<mark>EXTRA X 2</mark>: Put safeguards in your program to make sure the robot course is actually possible to complete. This one is tough, so if you manage to do it you're pretty much guaranteed to get 1.0 points. This will not likely be the only way to get a perfect score, however."
   ]
  },
  {
   "cell_type": "code",
   "execution_count": 6,
   "metadata": {},
   "outputs": [
    {
     "name": "stdout",
     "output_type": "stream",
     "text": [
      "Joe\n",
      "Jacob\n",
      "Jill\n",
      "Jamal\n",
      "John\n"
     ]
    }
   ],
   "source": [
    "# Coding Challenge 1\n",
    "import random\n",
    "\n",
    "names = [\"John\", \"Joe\", \"Jill\", \"Jack\", \"Jake\", \"Jacob\", \"Jaquavious\", \"Quandale\", \"Quantavious\", \"Demarcus\", \"Jamal\", \"Smith\", \"Jermaine\", \"Kendrick\", \"Pop Smoke\"]\n",
    "\n",
    "for i in range(5):\n",
    "  print(names[random.randint(0,14)])"
   ]
  },
  {
   "cell_type": "code",
   "execution_count": 10,
   "metadata": {},
   "outputs": [
    {
     "name": "stdout",
     "output_type": "stream",
     "text": [
      "Player two wins! 6 < 10\n"
     ]
    }
   ],
   "source": [
    "# Coding Challenge 2\n",
    "import random\n",
    "\n",
    "player_one = random.randint(1,6) + random.randint(1,6)\n",
    "\n",
    "player_two = random.randint(1,6) + random.randint(1,6)\n",
    "\n",
    "print(f\"Player one wins! {player_one} > {player_two}\") if player_one > player_two else print(f\"Player two wins! {player_one} < {player_two}\")\n"
   ]
  },
  {
   "cell_type": "code",
   "execution_count": 30,
   "metadata": {},
   "outputs": [
    {
     "name": "stdout",
     "output_type": "stream",
     "text": [
      "Random Board #1)\n",
      "[ ] [ ] [X] [⬅️] [X]\n",
      "[X] [X] [ ] [X] [ ]\n",
      "[ ] [ ] [X] [ ] [X]\n",
      "[ ] [ ] [ ] [X] [X]\n",
      "[X] [X] [X] [🥅] [ ]\n",
      "Random Board #2)\n",
      "[ ] [X] [ ] [X] [X]\n",
      "[🥅] [X] [ ] [X] [ ]\n",
      "[X] [ ] [X] [X] [⬆️]\n",
      "[ ] [ ] [X] [X] [ ]\n",
      "[ ] [X] [ ] [X] [ ]\n",
      "Random Board #3)\n",
      "[X] [ ] [X] [🥅] [ ]\n",
      "[X] [ ] [X] [X] [X]\n",
      "[ ] [ ] [X] [ ] [X]\n",
      "[⬅️] [ ] [X] [ ] [X]\n",
      "[X] [X] [ ] [ ] [ ]\n"
     ]
    }
   ],
   "source": [
    "# Extra Credit Challenge 1\n",
    "import random\n",
    "for i in range(3):\n",
    "\n",
    "  print(f\"Random Board #{i+1})\")\n",
    "\n",
    "  board = []\n",
    "\n",
    "  for i in range(5):\n",
    "\n",
    "    for n in range(5):\n",
    "      board.append(\"[ ]\")\n",
    "\n",
    "\n",
    "  robot_direction = [\"[⬆️]\", \"[⬇️]\", \"[⬅️]\", \"[➡️]\"]\n",
    "  robot_direction = robot_direction[random.randint(0, 3)]\n",
    "\n",
    "  goal = \"[🥅]\"\n",
    "\n",
    "  positions = random.sample(range(0, 24), 14)\n",
    "\n",
    "  board[positions[-1]] = robot_direction\n",
    "\n",
    "\n",
    "  board[positions[-2]] = goal\n",
    "\n",
    "  positions.pop(-1)\n",
    "  positions.pop(-1)\n",
    "\n",
    "  for position in positions:\n",
    "\n",
    "    board[position] = \"[X]\"\n",
    "\n",
    "  for i in range(len(board)):\n",
    "\n",
    "    print(board[i], end=\" \") if ((i+1) % 5 != 0) else print(board[i], end=\"\\n\")\n"
   ]
  }
 ],
 "metadata": {
  "kernelspec": {
   "display_name": "Python 3.10.8 64-bit (windows store)",
   "language": "python",
   "name": "python3"
  },
  "language_info": {
   "codemirror_mode": {
    "name": "ipython",
    "version": 3
   },
   "file_extension": ".py",
   "mimetype": "text/x-python",
   "name": "python",
   "nbconvert_exporter": "python",
   "pygments_lexer": "ipython3",
   "version": "3.10.8"
  },
  "orig_nbformat": 4,
  "vscode": {
   "interpreter": {
    "hash": "1d2dc5dcf990aaa47f7fbd56bffb5f58fda4d3a3977db6fc2dd988cdc560c2e3"
   }
  }
 },
 "nbformat": 4,
 "nbformat_minor": 2
}
