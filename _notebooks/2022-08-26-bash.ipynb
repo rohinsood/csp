{
 "cells": [
  {
   "cell_type": "markdown",
   "metadata": {},
   "source": [
    "# \"Bash Installation Checks\"\n",
    "> \"Check if the required tools for APCSP are installed\"\n",
    "\n",
    "- toc: false\n",
    "- branch: master\n",
    "- badges: true\n",
    "- comments: true\n",
    "- categories: [bash, jupyter]\n",
    "- hide: false\n",
    "- search_exclude: true"
   ]
  },
  {
   "cell_type": "code",
   "execution_count": 30,
   "metadata": {
    "vscode": {
     "languageId": "shellscript"
    }
   },
   "outputs": [
    {
     "name": "stdout",
     "output_type": "stream",
     "text": [
      "Check if the necessary Jupyter Notebook Kernels are installed (Python3, Bash, & JavaScript)\n",
      "python3 kernel is installed.\n",
      "bash kernel is installed.\n",
      "javascript kernel is installed.\n",
      "Script Complete. You have 3/3 kernels installed.\n"
     ]
    }
   ],
   "source": [
    "echo \"Check if the necessary Jupyter Notebook Kernels are installed (Python3, Bash, & JavaScript)\"\n",
    "\n",
    "kernel_path=~/.local/share/jupyter/kernels\n",
    "kernels=(python3 bash javascript)\n",
    "kernel_count=0\n",
    "\n",
    "cd ~\n",
    "\n",
    "# Exit script if the kernel parent folder doesn't exist\n",
    "if [[ ! -d $kernel_path ]]; then \n",
    "    echo \"Jupyter Notebook not installed, unlucky\"\n",
    "    exit 0\n",
    "fi\n",
    "\n",
    "# Iterate through all elements in kernels\n",
    "for i in \"${kernels[@]}\"; do\n",
    "\n",
    "  # If the directory of the kernel exists, then increment kernel count by 1 and notify the user\n",
    "  if [[ -d $kernel_path/$i ]]; then \n",
    "    echo \"$i kernel is installed.\"\n",
    "    let \"kernel_count += 1\"\n",
    "  else\n",
    "    echo \"$i kernel is not installed.\"\n",
    "  fi\n",
    "\n",
    "done\n",
    "\n",
    "echo \"Script Complete. You have $kernel_count/3 kernels installed.\""
   ]
  },
  {
   "cell_type": "code",
   "execution_count": null,
   "metadata": {
    "vscode": {
     "languageId": "shellscript"
    }
   },
   "outputs": [],
   "source": [
    "echo \"Check if user is properly signed into git\"\n",
    "\n",
    "cd ~\n",
    "\n",
    "declare -A settings\n",
    "\n",
    "echo \"Enter your GitHub username: \"\n",
    "read -p settings['name']\n",
    "\n",
    "echo \"Enter the email you use with GitHub: \"\n",
    " read -p settings['email']\n",
    "\n",
    "\n",
    "for key in \"${!settings[@]}\"; do\n",
    "  check_username=`cat ~./gitconfig | grep ${settings[$key]}`\n",
    "\n",
    "  if [[ ! ${#check_username} > 0 ]]; then\n",
    "    echo \"Your git username is not set to ${settings[$key]}!\"\n",
    "    echo \"Running git config --global user.$key ${settings[$key]} to set your name\"\n",
    "\n",
    "    git config --global user.$key ${settings[$key]}\n",
    "  fi\n",
    "    echo \"Your $key is set to ${settings[$key]}\"\n",
    "done\n",
    "\n",
    "echo \"Script complete\"\n"
   ]
  },
  {
   "cell_type": "code",
   "execution_count": null,
   "metadata": {},
   "outputs": [],
   "source": []
  }
 ],
 "metadata": {
  "kernelspec": {
   "display_name": "Bash",
   "language": "bash",
   "name": "bash"
  },
  "language_info": {
   "codemirror_mode": "shell",
   "file_extension": ".sh",
   "mimetype": "text/x-sh",
   "name": "bash"
  },
  "vscode": {
   "interpreter": {
    "hash": "492790f68865ecf314191d18d1480321aea4f44ff65973b6582a62ad7f31e039"
   }
  }
 },
 "nbformat": 4,
 "nbformat_minor": 2
}
