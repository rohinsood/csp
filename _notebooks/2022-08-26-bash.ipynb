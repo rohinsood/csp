{
 "cells": [
  {
   "cell_type": "markdown",
   "metadata": {},
   "source": [
    "# \"Bash Installation Checks\"\n",
    "> \"Check if the required tools for APCSP are installed\"\n",
    "\n",
    "- toc: false\n",
    "- branch: master\n",
    "- badges: true\n",
    "- comments: true\n",
    "- categories: [bash, jupyter]\n",
    "- hide: false\n",
    "- search_exclude: true"
   ]
  },
  {
   "cell_type": "code",
   "execution_count": null,
   "metadata": {
    "vscode": {
     "languageId": "shellscript"
    }
   },
   "outputs": [
    {
     "name": "stdout",
     "output_type": "stream",
     "text": [
      "Checking if the Python, Bash, and Javascript Jupyter Notebook Kernels exist!\n"
     ]
    }
   ],
   "source": [
    "echo \"Checking if the Python, Bash, and Javascript Jupyter Notebook Kernels exist!\"\n",
    "\n",
    "export kernel_path=\"~/.local/share/jupyter/kernels\"\n",
    "export kernels=('bash', 'python3', 'javascript')\n",
    "\n",
    "cd ~\n",
    "\n",
    "if [ -d \"~\" ]; then echo \"yo mom\"\n",
    "\n",
    "# if [ ! -d kernel_path ]; then\n",
    "#   echo \"Jupyter Notebook is not installed.\"\n",
    "#   exit 0\n",
    "# fi\n",
    "\n",
    "# for i in \"${kernels[@]}\"; do\n",
    "#   if [ -d \"$kernel_path/$i\" ]; then\n",
    "#     echo \"$i kernel is installed.\" \n",
    "#   fi\n",
    "# done\n",
    "\n",
    "echo \"Script Complete!\""
   ]
  },
  {
   "cell_type": "code",
   "execution_count": null,
   "metadata": {},
   "outputs": [],
   "source": []
  }
 ],
 "metadata": {
  "kernelspec": {
   "display_name": "Bash",
   "language": "bash",
   "name": "bash"
  },
  "language_info": {
   "codemirror_mode": "shell",
   "file_extension": ".sh",
   "mimetype": "text/x-sh",
   "name": "bash"
  }
 },
 "nbformat": 4,
 "nbformat_minor": 2
}
