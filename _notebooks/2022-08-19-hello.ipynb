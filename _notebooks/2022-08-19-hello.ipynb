{
 "cells": [
  {
   "cell_type": "markdown",
   "metadata": {},
   "source": [
    "---\n",
    "title: \"Hello, World! (Python)\"\n",
    "description: \"Printing \\\"Hello, World!\\\" with Python\"\n",
    "layout: post\n",
    "toc: true\n",
    "comments: true\n",
    "image: images/python-logo.png\n",
    "hide: false\n",
    "search_exclude: true\n",
    "categories: [python]\n",
    "---"
   ]
  },
  {
   "cell_type": "code",
   "execution_count": null,
   "metadata": {},
   "outputs": [],
   "source": [
    "# Code\n",
    "print(\"Hello, World!\")"
   ]
  },
  {
   "cell_type": "markdown",
   "metadata": {},
   "source": [
    "#### Run\n",
    "```cmd\n",
    "python filename.py\n",
    "```\n",
    "or\n",
    "```cmd\n",
    "py filename.py\n",
    "```"
   ]
  },
  {
   "cell_type": "markdown",
   "metadata": {},
   "source": [
    "> Hello, World!"
   ]
  }
 ],
 "metadata": {
  "language_info": {
   "name": "python"
  },
  "orig_nbformat": 4
 },
 "nbformat": 4,
 "nbformat_minor": 2
}
