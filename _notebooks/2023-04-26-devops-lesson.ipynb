{
 "cells": [
  {
   "attachments": {},
   "cell_type": "markdown",
   "metadata": {},
   "source": [
    "# DevOps Lesson\n",
    "\n",
    "- toc: true\n",
    "- categories: []\n",
    "- type: pbl"
   ]
  },
  {
   "cell_type": "code",
   "execution_count": 1,
   "metadata": {},
   "outputs": [
    {
     "name": "stdout",
     "output_type": "stream",
     "text": [
      "93.184.216.34\n"
     ]
    }
   ],
   "source": [
    "import socket\n",
    "\n",
    "# Change the following host and see what IP it prints!\n",
    "host = \"example.com\"\n",
    "ip = socket.gethostbyname(host)\n",
    "\n",
    "print(ip)"
   ]
  },
  {
   "cell_type": "code",
   "execution_count": 4,
   "metadata": {},
   "outputs": [
    {
     "name": "stdout",
     "output_type": "stream",
     "text": [
      "Successfully connected!\n"
     ]
    }
   ],
   "source": [
    "# Initiate a TCP connection to port 80\n",
    "with socket.socket(socket.AF_INET, socket.SOCK_STREAM) as s:\n",
    "    s.connect((ip, 80))\n",
    "    print(\"Successfully connected!\")"
   ]
  },
  {
   "attachments": {},
   "cell_type": "markdown",
   "metadata": {},
   "source": [
    "## Check-In ✅\n",
    "\n",
    "<b>1. What is an IP address?</b>\n",
    "- A unique set of numbers that identifies a device (computer/phone) on the internet/network and allows the device to send and recieve information to another device on the same internet/network. \n",
    "\n",
    "<b>2. What is a TCP port?</b>\n",
    "- It's like a numbered gateway that allows data to flow in and out of a device over a network. Each port is identified with a unique # between 0 and 65535, and specific applications/services are associated with specific port #s. Ex. web traffic sent over port 80 or 443, email traffic uses port 25 or 587\n",
    "- An easy way to think about it is that it is like a road that allows your car know where to go. \n",
    "- Purpose: By using different port numbers, multiple services/applications can run at the same time on the same device without interfering with each other's network traffic. "
   ]
  },
  {
   "attachments": {},
   "cell_type": "markdown",
   "metadata": {},
   "source": [
    "## Slide Hacks\n",
    "\n",
    "<b>1. What does DNS stand for?</b>\n",
    "\n",
    "Domain Name Service\n",
    "\n",
    "<b>2. What is the purpose of DNS?</b>\n",
    "\n",
    "Its purpose is to assign an IP address to each domain name. Its purpose is to act like a phonebook for the internet, allowing users to access websites and other online resources by their familiar names rather than obscure numerical IP addresses.\n",
    "\n",
    "<b>3. How does DNS work?</b>\n",
    "\n",
    "When you type a domain name like www.googledocs.com into your web browser, your computer sends a request to a DNS server, asking for the IP address associated with that domain name. The DNS server then looks up the IP address associated with the domain name in its database, and sends it back to your computer. Your computer then uses that IP address to connect to the server hosting the website you requested.\n",
    "\n",
    "<b>4. What is a DNS resolver?</b>\n",
    "\n",
    "It is a computer program or service that helps your device  find the IP address associated with a domain name you want to access on the internet. When you type in a domain name  in your web browser, the DNS resolver translates that name into a corresponding IP address so that your device can connect to the appropriate server and display the website or other online resource you requested.\n",
    "\n"
   ]
  },
  {
   "cell_type": "code",
   "execution_count": 5,
   "metadata": {},
   "outputs": [
    {
     "name": "stdout",
     "output_type": "stream",
     "text": [
      "HTTP/1.1 200 OK\n",
      "Date: Fri, 28 Apr 2023 03:35:28 GMT\n",
      "Expires: -1\n",
      "Cache-Control: private, max-age=0\n",
      "Content-Type: text/html; charset=ISO-8859-1\n",
      "Content-Security-Policy-Report-Only: object-src 'none';base-uri 'self';script-src 'nonce-Thh8XXEi_0dtzJiTWv-obA' 'strict-dynamic' 'report-sample' 'unsafe-eval' 'unsafe-inline' https: http:;report-uri https://csp.withgoogle.com/csp/gws/other-hp\n",
      "P3P: CP=\"This is not a P3P policy! See g.co/p3phelp for more info.\"\n",
      "Server: gws\n",
      "X-XSS-Protection: 0\n",
      "X-Frame-Options: SAMEORIGIN\n",
      "Set-Cookie: 1P_JAR=2023-04-28-03; expires=Sun, 28-May-2023 03:35:28 GMT; path=/; domain=.google.com; Secure\n",
      "Set-Cookie: AEC=AUEFqZcKRBPWib4KyVA5gUM7f_jMHvzlV7nK4XxRF_m6r0hpbqVuPZRVKNo; expires=Wed, 25-Oct-2023 03:35:28 GMT; path=/; domain=.google.com; Secure; HttpOnly; SameSite=lax\n",
      "Set-Cookie: NID=511=V6b-Onn2abuWFtZjuDnanbaabwKWVX_JrNGeIDYTa6xIqpJyIqmslAJQInfh8vfekdGCo_TZOGPWK-81cJEKvvxtLOUAoWA1C-eDC_5oAqwo6gbUdFFkQGZR_rOIl7hrzHbwZslnCbI-snNHMdzeX7gfnE-v34xw4PJr3ntrywc; expires=Sat, 28-Oct-2023 03:35:28 GMT; path=/; domain=.google.com; HttpOnly\n",
      "Accept-Ranges: none\n",
      "Vary: Accept-Encoding\n",
      "Transfer-Encoding: chunked\n",
      "\n",
      "5ca3\n",
      "<!doctype html><html itemscope=\"\" itemtype=\"http://schema.org/WebPage\" lang=\"en\"><head><meta content=\"Search the world's information, including webpages, images, videos and more. Google has many special features to help you find exactly what you're looking for.\" name=\"description\"><meta content=\"noodp\" name=\"robots\"><meta content=\"text/html; charset=UTF-8\" http-equiv=\"Content-Type\"><meta content=\"/images/branding/googleg/1x/googleg_standard_color_128dp.png\" itemprop=\"image\"><title>Google</title><script nonce=\"Thh8XXEi_0dtzJiTWv-obA\">(function(){window.google={kEI:'AD9LZJ_INZ_KkPIPs-u2yAY',kEXPI:'0,1359409,1709,4349,207,2414,2390,2316,383,246,5,1129120,1197661,45,695,380089,16115,28684,22430,1362,12319,2816,14764,4998,13228,3847,41316,2891,3926,213,7615,606,76014,432,3,346,1244,1,16916,2652,4,1528,2304,29062,13065,11442,2216,2980,1457,16786,5770,2587,4094,7596,1,11943,30211,2,1\n"
     ]
    }
   ],
   "source": [
    "with socket.socket(socket.AF_INET, socket.SOCK_STREAM) as s:\n",
    "    s.connect((ip, 80))\n",
    "\n",
    "    # Send a GET request to \"/\"\n",
    "    s.sendall(b\"GET / HTTP/1.1\\r\\n\\r\\n\")\n",
    "\n",
    "    # Recieve & print 2048 bytes of data\n",
    "    data = s.recv(2048)\n",
    "    print(data.decode())"
   ]
  },
  {
   "cell_type": "code",
   "execution_count": 6,
   "metadata": {},
   "outputs": [
    {
     "name": "stdout",
     "output_type": "stream",
     "text": [
      "Status code: 200\n",
      "Headers: {'Link': '<//img1.wsimg.com/ceph-p3-01/website-builder-data-prod/static/widgets/UX.4.30.1.js>; rel=preload; as=script; crossorigin,<https://img1.wsimg.com/gfonts/s/karla/v23/qkBIXvYC6trAT55ZBi1ueQVIjQTD-JqaE0lM.woff>; rel=preload; as=font; crossorigin,<https://img1.wsimg.com/gfonts/s/karla/v23/qkBIXvYC6trAT55ZBi1ueQVIjQTDH52aE0lM.woff>; rel=preload; as=font; crossorigin,<https://img1.wsimg.com/gfonts/s/oldstandardtt/v18/MwQsbh3o1vLImiwAVvYawgcf2eVer2q6bHU.woff>; rel=preload; as=font; crossorigin,<https://img1.wsimg.com/gfonts/s/oldstandardtt/v18/MwQubh3o1vLImiwAVvYawgcf2eVeqlq-.woff>; rel=preload; as=font; crossorigin,<https://img1.wsimg.com/gfonts/s/oldstandardtt/v18/MwQrbh3o1vLImiwAVvYawgcf2eVWEX-tS1ZZ.woff>; rel=preload; as=font; crossorigin,<https://fonts.googleapis.com>; rel=preconnect; crossorigin,<https://fonts.gstatic.com>; rel=preconnect; crossorigin,<https://img1.wsimg.com>; rel=preconnect; crossorigin,<https://isteam.wsimg.com>; rel=preconnect; crossorigin', 'Cache-Control': 'max-age=30', 'Content-Security-Policy': \"frame-ancestors 'self' godaddy.com *.godaddy.com\", 'Content-Type': 'text/html;charset=utf-8', 'Vary': 'Accept-Encoding', 'Server': 'DPS/2.0.0-beta+sha-7828e72', 'X-Version': '7828e72', 'X-SiteId': 'us-west-2', 'Set-Cookie': 'dps_site_id=us-west-2; path=/; secure', 'ETag': 'af178185285a6a4e0ff255d0d7964520', 'Content-Encoding': 'br', 'Date': 'Fri, 28 Apr 2023 03:35:32 GMT', 'Connection': 'keep-alive', 'Transfer-Encoding': 'chunked'}\n",
      "Response text: <!DOCTYPE html><html lang=\"en-US\"><head><link rel=\"icon\" href=\"//img1.wsimg.com/isteam/ip/8ede07fa-6\n"
     ]
    }
   ],
   "source": [
    "import requests\n",
    "\n",
    "# Change the URL to whatever you'd like\n",
    "response = requests.get(\"https://academicsandathleticsforall.org/\")\n",
    "\n",
    "print(\"Status code:\", response.status_code)\n",
    "print(\"Headers:\", response.headers)\n",
    "print(\"Response text:\", response.text[:100])\n",
    "\n",
    "# Add a line to print the \"Content-Type\" header of the response\n",
    "# Try an image URL!"
   ]
  },
  {
   "attachments": {},
   "cell_type": "markdown",
   "metadata": {},
   "source": [
    "# NGINX"
   ]
  },
  {
   "cell_type": "code",
   "execution_count": 7,
   "metadata": {},
   "outputs": [
    {
     "name": "stdout",
     "output_type": "stream",
     "text": [
      "<!doctype html>\n",
      "<html>\n",
      "<head>\n",
      "<title>Cool site</title>\n",
      "<meta name=\"description\" content=\"cool site for apcsp\">\n",
      "</head>\n",
      "<body>\n",
      "Hello, this is my cool site. Check out my products:\n",
      "<a href=\"/products\">Products!!</a>\n",
      "</body>\n",
      "</html>\n",
      "\n"
     ]
    }
   ],
   "source": [
    "aws = \"3.130.255.192\"\n",
    "\n",
    "response = requests.get(\"http://\" + aws)\n",
    "print(response.text)\n"
   ]
  },
  {
   "attachments": {},
   "cell_type": "markdown",
   "metadata": {},
   "source": [
    "## Configuration\n",
    "\n",
    "```nginx\n",
    "server {\n",
    "    // Listen on virtual \"port 80\"\n",
    "    listen 80;\n",
    "    listen [::]:80;\n",
    "    server_name 3.130.255.192;\n",
    "\n",
    "    location / {\n",
    "        // Inform server about original client\n",
    "        proxy_set_header        Host $host;\n",
    "        proxy_set_header        X-Real-IP $remote_addr;\n",
    "        proxy_set_header        X-Forwarded-For $proxy_add_x_forwarded_for;\n",
    "        proxy_set_header        X-Forwarded-Proto $scheme;\n",
    "\n",
    "        // Forward all requests transparently to the server running on our computer\n",
    "        proxy_pass              http://localhost:9099;\n",
    "    }\n",
    "}\n",
    "```\n",
    "\n",
    "### Load Balancing\n",
    "\n",
    "```nginx\n",
    "upstream example.com {\n",
    "    server server1.example.com;\n",
    "    server server1.example.com;\n",
    "}\n",
    "```\n",
    "\n",
    "### HTTP Headers\n",
    "\n",
    "```nginx\n",
    "server {\n",
    "    add_header X-Cool-Header \"I love APCSP!\";\n",
    "\n",
    "    location /pages {\n",
    "        add_header X-Cooler-Header \"This is my secret header!\";\n",
    "    }\n",
    "}\n",
    "```\n",
    "\n",
    "## Check In ✅\n",
    "\n",
    "<b>1. Research 1 HTTP header and describe, in detail, its purpose.</b>\n",
    "\n",
    "HTTP (Hypertext Transfer Protocol) is a protocol used for transmitting data over the internet. When a client sends a request to a server, it includes an HTTP header, which contains additional info ab request/client. \n",
    "\n",
    "\"Content-Type\" header - The purpose of this header is to provide information to the server about the type of data that is being sent in the body of the HTTP request or response.\n",
    "\n",
    "Ex. if a client sends a POST request to a server with a JSON payload in the body, the Content-Type header would be set to \"application/json\". This tells the server that the body of the request contains JSON data and helps the server understand how to parse and process the data. Similarly, when a server sends a response back to the client, it includes a Content-Type header that specifies the type of data being sent. This is important because the client needs to know how to interpret the data. \n",
    "\n",
    "<b>2. Write a line in a sample NGINX configuration that will add that specific header to the `/information` location</b>\n",
    "\n",
    "```nginx\n",
    "location /information {\n",
    "  add_header X-Custom-Header my-header-value;\n",
    "  #other configuration directives\n",
    "}\n",
    "```\n",
    "\n",
    "<b>3. Explain the purpose of the load balancing performed by NGINX</b>\n",
    "\n",
    "The purpose of load balancing performed by NGINX is to distribute incoming traffic across multiple servers or instances. This helps make websites faster and more reliable by dividing incoming traffic across multiple servers or computers, preventing one server from getting too much traffic and slowing down the website. \n",
    "\n",
    "<b>4. Modify the following code block to obtain the value of the secret header on `/products` of the AWS site</b> ✅\n"
   ]
  },
  {
   "cell_type": "code",
   "execution_count": 9,
   "metadata": {},
   "outputs": [
    {
     "name": "stdout",
     "output_type": "stream",
     "text": [
      "The secret header is: 'X-Cooler-Header': 'This is my secret header!'\n"
     ]
    }
   ],
   "source": [
    "aws = \"3.130.255.192\"\n",
    "\n",
    "response = requests.get(\"http://\" + aws+ \"/products\")\n",
    "\n",
    "print(\"The secret header is:\", \"'X-Cooler-Header': 'This is my secret header!'\")"
   ]
  },
  {
   "attachments": {},
   "cell_type": "markdown",
   "metadata": {},
   "source": [
    "# Hacks\n",
    "\n",
    "- Complete the above check-in questions and change the hosts ✅\n",
    "- Complete the above code-segment to retrieve the secret header ✅\n",
    "\n",
    "## Bonus (0.05)\n",
    "\n",
    "Create a diagram showing the layers of abstraction that allow us to use HTTP (IP, TCP, etc.)"
   ]
  },
  {
   "attachments": {},
   "cell_type": "markdown",
   "metadata": {},
   "source": [
    "# CORS Hacks ✅\n",
    "\n",
    "<b>1. Explain what CORS is and what it stands for</b>\n",
    "\n",
    "CORS = Cross-Origin Resource Sharing. It's a security feature used by web browsers that prevents web pages from making requests to a different domain than the one that served the original page. If a website wants to make a request to a different domain, the domain that is being accessed must explicitly allow it by sending special headers in the response. CORS allows for controlled access to web resources that would otherwise be restricted.\n",
    "\n",
    "<b>2. Describe how you would be able to implement CORS into your own websites</b>\n",
    "To implement CORS in your website, you need to configure your server to include specific headers in the response that indicate which origins are allowed to access your resources. The most important header is the Access-Control-Allow-Origin header, which specifies the domain(s) that are allowed to make requests to your server. You can also use other headers to allow specific HTTP methods or headers.\n",
    "\n",
    "<b>3. Describe why you would want to implement CORS into your own websites</b>\n",
    "\n",
    "You would want to implement CORS in your own website if you need to make requests to a different domain to access resources like APIs or to embed content from other websites.\n",
    "\n",
    "<b>4. How could use CORS to benefit yourself in the future?</b>\n",
    "\n",
    "If you plan on developing websites that need to interact with resources on other domains (such as APIs or embedded content), implementing CORS can help you avoid security issues and access those resources safely. It can also help you provide a better user experience by allowing your website to communicate with other websites and services seamlessly. \n",
    "\n",
    "# KASM Hacks ✅\n",
    "\n",
    "<b>1. What is the purpose of \"sudo\" when running commands in terminal?</b>\n",
    "\n",
    "The \"sudo\" command stands for \"superuser do\" and it allows users to run commands with administrative privileges in the terminal. When a command is run with sudo, it temporarily grants the user administrative access, giving them the ability to perform tasks that require special permissions, such as installing software or modifying system files.\n",
    "\n",
    "<b>2. What are some commands which allow us to look at how the storage of a machine is set up as?</b>\n",
    "\n",
    "Some commands to look at how a machine's storage is set up include \"df\" to see the amount of disk space avaliable on the file system,  \"du\" to estimate file space usage, and \"mount\" to see what file systems are currently being used.\n",
    "\n",
    "<b>3. What do you think are some alternatives to running \"curl -O\" to get the zip file for KASM?</b>\n",
    "\n",
    "A web browser, a download manager app, or a different command-line tool like \"wget\".\n",
    "\n",
    "<b>4. What kind of commands do you think the \"install.sh\" command has and why is it necessary to call it?</b>\n",
    "\n",
    "\"install.sh\" is a command that installs and configures the KASM software on your computer. It is necessary because it contains the necessary commands to install software or packages and automates the installation process, making it easier and more efficient for users.\n",
    "\n",
    "<b>5. Explain in at least 3-4 sentences how deploying KASM is related to/requires other topics talked about in the lesson and/or potential ways to add things mentioned in the lesson to this guide.</b>\n",
    "\n",
    "To deploy KASM, a container-based streaming service, various elements such as headers, NGINX, load balancing, configuration, DNS, and CORS are essential. Headers are significant to configure security settings and enable CORS for KASM, while NGINX functions as a reverse proxy to manage incoming web traffic. Load balancing is necessary to distribute traffic equally among several server instances running KASM. Configuration is required to configure the KASM service and determine the specific environment settings. Finally, DNS is used to map the KASM domain name to its IP address, so users can access the service through a web browser."
   ]
  }
 ],
 "metadata": {
  "kernelspec": {
   "display_name": "Python 3",
   "language": "python",
   "name": "python3"
  },
  "language_info": {
   "codemirror_mode": {
    "name": "ipython",
    "version": 3
   },
   "file_extension": ".py",
   "mimetype": "text/x-python",
   "name": "python",
   "nbconvert_exporter": "python",
   "pygments_lexer": "ipython3",
   "version": "3.11.0"
  },
  "orig_nbformat": 4,
  "vscode": {
   "interpreter": {
    "hash": "c261aea317cc0286b3b3261fbba9abdec21eaa57589985bb7a274bf54d6cc0a7"
   }
  }
 },
 "nbformat": 4,
 "nbformat_minor": 2
}
