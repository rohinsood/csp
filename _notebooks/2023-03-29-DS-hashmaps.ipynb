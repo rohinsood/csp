{
 "cells": [
  {
   "attachments": {},
   "cell_type": "markdown",
   "metadata": {},
   "source": [
    "#  Hashmaps & Sets\n",
    "> Hacks for the Hashmaps & Sets lesson"
   ]
  },
  {
   "attachments": {},
   "cell_type": "markdown",
   "metadata": {},
   "source": [
    "## What is a Hashtable/Hashmap?\n",
    "\n",
    "> A hashtable is a data structure that with a collection of key-value pairs, where each key maps to a value, and the keys must be unique and hashable.\n",
    "\n",
    "- In Python there is a built in hashtable known as a dictionary.\n",
    "\n",
    "> The primary purpose of a hashtable is to provide efficient lookup, insertion, and deletion operations. When an element is to be inserted into the hashtable, a hash function is used to map the key to a specific index in the underlying array that is used to store the key-value pairs. The value is then stored at that index. When searching for a value, the hash function is used again to find the index where the value is stored.\n",
    "\n",
    "> The key advantage of a hashtable over other data structures like arrays and linked lists is its average-case time complexity for lookup, insertion, and deletion operations.\n",
    "\n",
    "- The typical time complexity of a hashtable is O(1). \n"
   ]
  },
  {
   "attachments": {},
   "cell_type": "markdown",
   "metadata": {},
   "source": [
    "## What is Hashing and Collision?\n",
    "\n",
    "> Hashing is the process of mapping a given key to a value in a hash table or hashmap, using a hash function. The hash function takes the key as input and produces a hash value or hash code, which is then used to determine the index in the underlying array where the value is stored. The purpose of hashing is to provide a quick and efficient way to access data, by eliminating the need to search through an entire data structure to find a value.\n",
    "\n",
    "> However, it is possible for two different keys to map to the same hash value, resulting in a collision. When a collision occurs, there are different ways to resolve it, depending on the collision resolution strategy used.\n",
    "\n",
    "> Python's dictionary implementation is optimized to handle collisions efficiently, and the performance of the dictionary is generally very good, even in the presence of collisions. However, if the number of collisions is very high, the performance of the dictionary can degrade, so it is important to choose a good hash function that minimizes collisions when designing a Python dictionary.\n",
    "\n",
    "## What is a Set?"
   ]
  },
  {
   "cell_type": "code",
   "execution_count": 1,
   "metadata": {},
   "outputs": [
    {
     "name": "stdout",
     "output_type": "stream",
     "text": [
      "{1, 2, 3}\n"
     ]
    }
   ],
   "source": [
    "# Creating a set using set() function\n",
    "my_set = set([1, 2, 3, 2, 1])\n",
    "print(my_set)  \n",
    "\n",
    "# What do you notice in the output?\n",
    "# Only unique numbers are printed\n",
    "#\n",
    "\n",
    "# Why do you think Sets are in the same tech talk as Hashmaps/Hashtables?\n",
    "# They only contain unique values\n",
    "#"
   ]
  },
  {
   "attachments": {},
   "cell_type": "markdown",
   "metadata": {},
   "source": [
    "## Dictionary Example\n",
    "\n",
    "Below are just some basic features of a dictionary. As always, documentation is always the main source for all the full capablilties. "
   ]
  },
  {
   "cell_type": "code",
   "execution_count": 2,
   "metadata": {},
   "outputs": [
    {
     "name": "stdout",
     "output_type": "stream",
     "text": [
      "{'title': 'Lover', 'artist': 'Taylor Swift', 'year': 2019, 'genre': ['Pop', 'Synth-pop'], 'tracks': {1: 'I Forgot That You Existed', 2: 'Cruel Summer', 3: 'Lover', 4: 'The Man', 5: 'The Archer', 6: 'I Think He Knows', 7: 'Miss Americana & The Heartbreak Prince', 8: 'Paper Rings', 9: 'Cornelia Street', 10: 'Death By A Thousand Cuts', 11: 'London Boy', 12: \"Soon You'll Get Better (feat. Dixie Chicks)\", 13: 'False God', 14: 'You Need To Calm Down', 15: 'Afterglow', 16: 'Me! (feat. Brendon Urie of Panic! At The Disco)', 17: \"It's Nice To Have A Friend\", 18: 'Daylight'}}\n"
     ]
    }
   ],
   "source": [
    "# Creating a dictionary with information about the album \"Lover\"\n",
    "lover_album = {\n",
    "    \"title\": \"Lover\",\n",
    "    \"artist\": \"Taylor Swift\",\n",
    "    \"year\": 2019,\n",
    "    \"genre\": [\"Pop\", \"Synth-pop\"],\n",
    "    \"tracks\": {\n",
    "        1: \"I Forgot That You Existed\",\n",
    "        2: \"Cruel Summer\",\n",
    "        3: \"Lover\",\n",
    "        4: \"The Man\",\n",
    "        5: \"The Archer\",\n",
    "        6: \"I Think He Knows\",\n",
    "        7: \"Miss Americana & The Heartbreak Prince\",\n",
    "        8: \"Paper Rings\",\n",
    "        9: \"Cornelia Street\",\n",
    "        10: \"Death By A Thousand Cuts\",\n",
    "        11: \"London Boy\",\n",
    "        12: \"Soon You'll Get Better (feat. Dixie Chicks)\",\n",
    "        13: \"False God\",\n",
    "        14: \"You Need To Calm Down\",\n",
    "        15: \"Afterglow\",\n",
    "        16: \"Me! (feat. Brendon Urie of Panic! At The Disco)\",\n",
    "        17: \"It's Nice To Have A Friend\",\n",
    "        18: \"Daylight\"\n",
    "    }\n",
    "}\n",
    "\n",
    "# What data structures do you see?\n",
    "#\n",
    "#\n",
    "\n",
    "# Printing the dictionary\n",
    "print(lover_album)"
   ]
  },
  {
   "cell_type": "code",
   "execution_count": 3,
   "metadata": {},
   "outputs": [
    {
     "name": "stdout",
     "output_type": "stream",
     "text": [
      "{1: 'I Forgot That You Existed', 2: 'Cruel Summer', 3: 'Lover', 4: 'The Man', 5: 'The Archer', 6: 'I Think He Knows', 7: 'Miss Americana & The Heartbreak Prince', 8: 'Paper Rings', 9: 'Cornelia Street', 10: 'Death By A Thousand Cuts', 11: 'London Boy', 12: \"Soon You'll Get Better (feat. Dixie Chicks)\", 13: 'False God', 14: 'You Need To Calm Down', 15: 'Afterglow', 16: 'Me! (feat. Brendon Urie of Panic! At The Disco)', 17: \"It's Nice To Have A Friend\", 18: 'Daylight'}\n",
      "{1: 'I Forgot That You Existed', 2: 'Cruel Summer', 3: 'Lover', 4: 'The Man', 5: 'The Archer', 6: 'I Think He Knows', 7: 'Miss Americana & The Heartbreak Prince', 8: 'Paper Rings', 9: 'Cornelia Street', 10: 'Death By A Thousand Cuts', 11: 'London Boy', 12: \"Soon You'll Get Better (feat. Dixie Chicks)\", 13: 'False God', 14: 'You Need To Calm Down', 15: 'Afterglow', 16: 'Me! (feat. Brendon Urie of Panic! At The Disco)', 17: \"It's Nice To Have A Friend\", 18: 'Daylight'}\n"
     ]
    }
   ],
   "source": [
    "# Retrieve value from dictionary with key\n",
    "print(lover_album.get('tracks'))\n",
    "# or\n",
    "print(lover_album['tracks'])"
   ]
  },
  {
   "cell_type": "code",
   "execution_count": 4,
   "metadata": {},
   "outputs": [
    {
     "name": "stdout",
     "output_type": "stream",
     "text": [
      "The Man\n",
      "The Man\n"
     ]
    }
   ],
   "source": [
    "# Retrieve value from a dictionary inside a dictionary\n",
    "print(lover_album.get('tracks')[4])\n",
    "# or\n",
    "print(lover_album['tracks'][4])"
   ]
  },
  {
   "cell_type": "code",
   "execution_count": 5,
   "metadata": {},
   "outputs": [
    {
     "name": "stdout",
     "output_type": "stream",
     "text": [
      "{'title': 'Lover', 'artist': 'Taylor Swift', 'year': 2019, 'genre': ['Pop', 'Synth-pop'], 'tracks': {1: 'I Forgot That You Existed', 2: 'Cruel Summer', 3: 'Lover', 4: 'The Man', 5: 'The Archer', 6: 'I Think He Knows', 7: 'Miss Americana & The Heartbreak Prince', 8: 'Paper Rings', 9: 'Cornelia Street', 10: 'Death By A Thousand Cuts', 11: 'London Boy', 12: \"Soon You'll Get Better (feat. Dixie Chicks)\", 13: 'False God', 14: 'You Need To Calm Down', 15: 'Afterglow', 16: 'Me! (feat. Brendon Urie of Panic! At The Disco)', 17: \"It's Nice To Have A Friend\", 18: 'Daylight'}, 'producer': {'Frank Dukes', 'Jack Antonoff', 'Taylor Swift', 'Louis Bell', 'Joel Little'}}\n"
     ]
    }
   ],
   "source": [
    "# adding a value with a new key\n",
    "lover_album[\"producer\"] = ['Taylor Swift', 'Jack Antonoff', 'Joel Little', 'Taylor Swift', 'Louis Bell', 'Frank Dukes']\n",
    "\n",
    "# What can you change to make sure there are no duplicate producers?\n",
    "lover_album[\"producer\"] = set(lover_album[\"producer\"])\n",
    "#\n",
    "\n",
    "# Printing the dictionary\n",
    "print(lover_album)"
   ]
  },
  {
   "cell_type": "code",
   "execution_count": 7,
   "metadata": {},
   "outputs": [
    {
     "name": "stdout",
     "output_type": "stream",
     "text": [
      "title: Lover\n",
      "artist: Taylor Swift\n",
      "year: 2019\n",
      "genre: ['Pop', 'Synth-pop']\n",
      "tracks: {1: 'I Forgot That You Existed', 2: 'Cruel Summer', 3: 'Lover', 4: 'The Man', 5: 'The Archer', 6: 'I Think He Knows', 7: 'Miss Americana & The Heartbreak Prince', 8: 'Paper Rings', 9: 'Cornelia Street', 10: 'Death By A Thousand Cuts', 11: 'London Boy', 12: \"Soon You'll Get Better (feat. Dixie Chicks)\", 13: 'False God', 14: 'You Need To Calm Down', 15: 'Afterglow', 16: 'Me! (feat. Brendon Urie of Panic! At The Disco)', 17: \"It's Nice To Have A Friend\", 18: 'Daylight', 19: 'All Of The Girls You Loved Before'}\n",
      "producer: {'Frank Dukes', 'Jack Antonoff', 'Taylor Swift', 'Louis Bell', 'Joel Little'}\n",
      "Track 1: I Forgot That You Existed\n",
      "Track 2: Cruel Summer\n",
      "Track 3: Lover\n",
      "Track 4: The Man\n",
      "Track 5: The Archer\n",
      "Track 6: I Think He Knows\n",
      "Track 7: Miss Americana & The Heartbreak Prince\n",
      "Track 8: Paper Rings\n",
      "Track 9: Cornelia Street\n",
      "Track 10: Death By A Thousand Cuts\n",
      "Track 11: London Boy\n",
      "Track 12: Soon You'll Get Better (feat. Dixie Chicks)\n",
      "Track 13: False God\n",
      "Track 14: You Need To Calm Down\n",
      "Track 15: Afterglow\n",
      "Track 16: Me! (feat. Brendon Urie of Panic! At The Disco)\n",
      "Track 17: It's Nice To Have A Friend\n",
      "Track 18: Daylight\n",
      "Track 19: All Of The Girls You Loved Before\n"
     ]
    }
   ],
   "source": [
    "# Print lover_album in more readable format\n",
    "for k,v in lover_album.items(): # iterate using a for loop for key and value\n",
    "    print(str(k) + \": \" + str(v))\n",
    "\n",
    "# Write your own code to print tracks in readable format\n",
    "#\n",
    "for k,v in lover_album[\"tracks\"].items():\n",
    "    print(\"Track \" + str(k) + \": \" + v)\n",
    "#"
   ]
  },
  {
   "cell_type": "code",
   "execution_count": 8,
   "metadata": {},
   "outputs": [
    {
     "name": "stdout",
     "output_type": "stream",
     "text": [
      "['Pop', 'Synth-pop']\n",
      "{'Frank Dukes', 'Jack Antonoff', 'Taylor Swift', 'Louis Bell', 'Joel Little'}\n"
     ]
    }
   ],
   "source": [
    "# Using conditionals to retrieve a random song\n",
    "def search():\n",
    "    search = input(\"What would you like to know about the album?\")\n",
    "    if lover_album.get(search.lower()) == None:\n",
    "        print(\"Invalid Search\")\n",
    "    else:\n",
    "        print(lover_album.get(search.lower()))\n",
    "\n",
    "search()\n",
    "\n",
    "# This is a very basic code segment, how can you improve upon this code?\n",
    "#\n",
    "# Abstract search parameter:\n",
    "\n",
    "def search2(search):\n",
    "    if lover_album.get(search.lower()) == None:\n",
    "        print(\"Invalid Search\")\n",
    "    else:\n",
    "        print(lover_album.get(search.lower()))\n",
    "\n",
    "search2(\"producer\")"
   ]
  },
  {
   "attachments": {},
   "cell_type": "markdown",
   "metadata": {},
   "source": [
    "## Hacks\n",
    "\n",
    "- Answer *ALL* questions in the code segments\n",
    "- Create a diagram or comparison illustration (Canva).\n",
    "    - What are the pro and cons of using this data structure? \n",
    "    - Dictionary vs List\n",
    "\n",
    "```\n",
    "+----------------------+---------------------------+\n",
    "|      Dictionaries    |          Lists            |\n",
    "+----------------------+---------------------------+\n",
    "|  Unordered           |  Ordered                  |\n",
    "|  Accessed by key     |  Accessed by index        |\n",
    "|  Keys must be unique |  Can have duplicates      |\n",
    "|  Value can be any    |  Value can be any         |\n",
    "|  object type         |  object type              |\n",
    "|  Can't be sliced     |  Can be sliced            |\n",
    "|  Can't be sorted     |  Can be sorted            |\n",
    "|  Use curly braces {} |  Use square brackets []   |\n",
    "+---------------------+----------------------------+\n",
    "\n",
    "```\n",
    "\n",
    "\n",
    "- Expand upon the code given to you, possible improvements in comments\n",
    "- Build your own album showing features of a python dictionary\n",
    "\n",
    "```python\n",
    "channel_orange_album = {\n",
    "    \"title\": \"DAMN.\",\n",
    "    \"artist\": \"Kendrick Lamar\",\n",
    "    \"year\": 2017,\n",
    "    \"genre\": [\"Rap\"],\n",
    "    \"tracks\": {\n",
    "        1: \"BLOOD.\",\n",
    "        2: \"DNA.\",\n",
    "        3: \"YAH.\",\n",
    "        4: \"ELEMENT.\",\n",
    "        5: \"FEEL.\",\n",
    "        6: \"LOYALTY.\",\n",
    "        7: \"PRIDE.\",\n",
    "        8: \"HUMBLE.\",\n",
    "        9: \"LUST.\",\n",
    "        10: \"LOVE.\",\n",
    "        11: \"XXX.\",\n",
    "        12: \"FEAR.\",\"\n",
    "        13: \"GOD.\",\n",
    "        14: \"DUCKWORTH.\"\n",
    "    }\n",
    "}\n",
    "```\n",
    "\n",
    "- For Mr. Yeung's class: Justify your favorite Taylor Swift song, answer may effect seed\n",
    "\n",
    "It is my pleasure to delve into the musical masterpiece that is \"Shake It Off\" by Taylor Swift. This song stands out among her many hits as a true representation of her unparalleled songwriting abilities and artistic vision.\n",
    "\n",
    "Firstly, the infectious melody of \"Shake It Off\" is one that simply cannot be ignored. From the opening notes, listeners are drawn into the upbeat rhythm that sets the tone for the entire song. Swift's use of repetition throughout the chorus creates a singalong-worthy hook that is both memorable and catchy. Furthermore, the instrumental arrangement is perfectly balanced, blending horns, drums, and guitar to create a dynamic sound that complements Swift's vocals beautifully.\n",
    "\n",
    "Beyond its musical merits, \"Shake It Off\" is a lyrical masterpiece. Swift's signature storytelling is on full display, as she takes listeners on a journey of self-discovery and resilience. The song's central message, to let go of negativity and embrace positivity, is one that resonates with people of all ages and backgrounds. Swift's ability to articulate this message through her lyrics is a testament to her songwriting prowess and demonstrates her ability to connect with her audience on a personal level.\n",
    "\n",
    "Additionally, \"Shake It Off\" marks a significant departure from Swift's earlier works, showcasing her growth and evolution as an artist. The song's pop-infused sound was a departure from her country roots and signaled a shift towards a more mainstream sound. This willingness to take risks and explore new musical territories is a hallmark of Swift's career and has helped to solidify her status as a musical icon.\n",
    "\n",
    "It is also worth noting that \"Shake It Off\" has had a lasting impact on popular culture. The song's music video, which features Swift showcasing various dance moves and outfits, has become iconic in its own right. The video has been viewed over 3 billion times on YouTube and has inspired countless parodies and tributes. This cultural impact further cements the song's status as one of Swift's most enduring and beloved works.\n",
    "\n",
    "In conclusion, \"Shake It Off\" is a true masterpiece of modern pop music. Its infectious melody, powerful lyrics, and lasting impact on popular culture have cemented its status as one of Taylor Swift's greatest songs. I can confidently say that \"Shake It Off\" is not only an artistic triumph but also a cultural touchstone that will continue to inspire and resonate with people for years to come."
   ]
  }
 ],
 "metadata": {
  "kernelspec": {
   "display_name": "Python 3",
   "language": "python",
   "name": "python3"
  },
  "language_info": {
   "codemirror_mode": {
    "name": "ipython",
    "version": 3
   },
   "file_extension": ".py",
   "mimetype": "text/x-python",
   "name": "python",
   "nbconvert_exporter": "python",
   "pygments_lexer": "ipython3",
   "version": "3.11.0"
  },
  "orig_nbformat": 4,
  "vscode": {
   "interpreter": {
    "hash": "c261aea317cc0286b3b3261fbba9abdec21eaa57589985bb7a274bf54d6cc0a7"
   }
  }
 },
 "nbformat": 4,
 "nbformat_minor": 2
}
