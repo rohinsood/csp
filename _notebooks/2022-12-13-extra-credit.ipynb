{
 "cells": [
  {
   "cell_type": "markdown",
   "metadata": {},
   "source": [
    "# Notes from the 12/13 Business Panel\n",
    "> Extra Credit 12/13/22\n",
    "\n",
    "- toc: true \n",
    "- badges: true\n",
    "- comments: true"
   ]
  },
  {
   "cell_type": "markdown",
   "metadata": {},
   "source": [
    "# My Reflection/takeaways\n",
    " - When the speakers were asked about, when they were in high school, if they thought they would be at the place that they are in life at this moment, I found it especially particular that neither of them thought they would be. Although its important to think about one's future and life goals, its also important to note that, as time progresses, one's ideals and goals in life progress as well. You won't know where you'll end up in 10, 15, 20, 30 years and its important to realize to live and invest in the present. \n",
    "\n",
    "# Kathyleen Beveridge : Speaker 1\n",
    "\n",
    "About Me\n",
    "  - Immigrated to United States of America in 1980\n",
    "  - Lived in San Jose and Studied in Spain\n",
    "  - Attended USC and Santa Clara: MBA and Finance\n",
    "  - Mission Statement: Not only to survive but to thrive with passion, compassion, humor, and style.\n",
    "\n",
    "Career  \n",
    "  - Worked for 3 Main Companies\n",
    "    - HP : Create Technology that makes life better for everyone, every where\n",
    "    - Qualcomm : Inventing the tech the world loves\n",
    "    - Thermo Fisher Scientific : Enable our customers to make the world healthier, cleaner, safer\n",
    "      - Benefit Others and Society\n",
    "\n",
    "Roles and Journey\n",
    "  - Investment Banking\n",
    "  - Program Manager\n",
    "  - Purchasing Manager\n",
    "  - Managing of Business Planning\n",
    "  - Senior Director of Marketing Sales\n",
    "\n",
    "# Kris Porter : Speaker 2\n",
    "\n",
    "About Me\n",
    "  - Spend majority of time in California\n",
    "  - Attended UCLA and Calstate LA for Electrical Engineering\n",
    "  - Graduated during Stock Market Crash of 2008\n",
    "  - Worked for Startup (2010)\n",
    "  - NBC Universal, Streaming Media Infrastructure (2012)\n",
    "  - Transitioned to DevOps role and transferred to Qualcomm (2014)\n",
    "  - Working at Twitter (2021 - Present)\n",
    "  \n",
    "\n",
    "Research\n",
    "  - Center for Embedded Networked Senors\n",
    "  - Networked Infomechanical Systems (NIMS)\n",
    "  - Introduced to the Linux Operating System & Software Development\n",
    "\n",
    "Highlights\n",
    "  -  CCNA Training\n",
    "  -  Machine Learning and Deep Learning\n",
    "  -  Python\n",
    "  -  Data Structures, Algorithms, \n",
    "\n",
    "Projects\n",
    "  - Streaming Media Infrastructure for 2012 Olympic Games\n",
    "  - Analytics Infrastructure Projects (LocationSmart, Qualcomm)\n",
    "  - Twitter Projects\n",
    "    - New DataCenter Deployment\n",
    "    - Migrating HomeTimeline to GraphQL\n",
    "\n",
    "\n",
    "\n"
   ]
  },
  {
   "cell_type": "markdown",
   "metadata": {},
   "source": [
    "# Class Questions / Discussion\n",
    "\n",
    "- How have you utilized or worked with Agile Methodology?\n",
    "    - Differs slightly by Company\n",
    "    - Qualcomm specifically had a group of 150 Engineers\n",
    "    - Interacted through large scale discussions\n",
    "    - Used roadmaps and flowcharts to coordinate with other engineers\n",
    "\n",
    "- What is the greatest skill a engineer or someone hoping for a career in tech should have?\n",
    "    - Perseverance and the drive or passion to learn\n",
    "    - Adapt and learn from your mistakes\n",
    "\n",
    "- How would learning to code help in other sectors?\n",
    "    - Coding can teach skills and methods you can use to tackle other problems. For example, looking at things methodically and structurally to find the answer to certain problems.\n"
   ]
  }
 ],
 "metadata": {
  "kernelspec": {
   "display_name": "Python 3.10.8 64-bit (windows store)",
   "language": "python",
   "name": "python3"
  },
  "language_info": {
   "codemirror_mode": {
    "name": "ipython",
    "version": 3
   },
   "file_extension": ".py",
   "mimetype": "text/x-python",
   "name": "python",
   "nbconvert_exporter": "python",
   "pygments_lexer": "ipython3",
   "version": "3.10.8"
  },
  "orig_nbformat": 4,
  "vscode": {
   "interpreter": {
    "hash": "1d2dc5dcf990aaa47f7fbd56bffb5f58fda4d3a3977db6fc2dd988cdc560c2e3"
   }
  }
 },
 "nbformat": 4,
 "nbformat_minor": 2
}
