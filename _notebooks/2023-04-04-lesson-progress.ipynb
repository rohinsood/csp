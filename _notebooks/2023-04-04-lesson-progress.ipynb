{
 "cells": [
  {
   "attachments": {},
   "cell_type": "markdown",
   "metadata": {},
   "source": [
    "#  Lesson code"
   ]
  },
  {
   "attachments": {},
   "cell_type": "markdown",
   "metadata": {},
   "source": [
    "# 2D Array Visualization\n",
    "\n",
    "\n",
    "<div style=\"margin:auto;\"> \n",
    "  <canvas id=\"canvas\"> </canvas>\n",
    "</div>\n",
    "\n",
    "<script>\n",
    "const data = [\n",
    "  [1, 2, 3],\n",
    "  [4, 5, 6],\n",
    "  [7, 8, 9]\n",
    "];\n",
    "\n",
    "\n",
    "function drawArray(data) {\n",
    "  const canvas = document.getElementById('canvas');\n",
    "  const context = canvas.getContext('2d');\n",
    "  const cellWidth = 50;\n",
    "  const cellHeight = 50;\n",
    "\n",
    "  // Loop through the rows and columns of the 2D array\n",
    "  for (let row = 0; row < data.length; row++) {\n",
    "    for (let col = 0; col < data[row].length; col++) {\n",
    "      const value = data[row][col]+100;\n",
    "      const x = col * cellWidth;\n",
    "      const y = row * cellHeight;\n",
    "\n",
    "      // Draw a rectangle for each cell, with the value as the fill color\n",
    "      context.fillStyle = `rgb(${value}, ${value}, ${value})`;\n",
    "      context.fillRect(x, y, cellWidth, cellHeight);\n",
    "\n",
    "      // Add a border around the rectangle\n",
    "      context.strokeStyle = '#000';\n",
    "      context.strokeRect(x, y, cellWidth, cellHeight);\n",
    "    }\n",
    "  }\n",
    "}\n",
    "\n",
    "drawArray(data);\n",
    "</script>\n"
   ]
  },
  {
   "attachments": {},
   "cell_type": "markdown",
   "metadata": {},
   "source": [
    "# Dictionaries Visualization\n",
    "<body>\n",
    "  <canvas id=\"canvas\" width=\"500\" height=\"500\"></canvas>\n",
    "  <script>\n",
    "    const dict = {\n",
    "      \"key1\": \"value1\",\n",
    "      \"key2\": \"value2\",\n",
    "      \"key3\": \"value3\",\n",
    "      \"key4\": \"value4\"\n",
    "    };\n",
    "    const canvas = document.getElementById(\"canvas\");\n",
    "    const ctx = canvas.getContext(\"2d\");\n",
    "    const dictKeys = Object.keys(dict);\n",
    "    const dictValues = Object.values(dict);\n",
    "    const dictEntries = Object.entries(dict);\n",
    "    const dictSize = Object.keys(dict).length;\n",
    "    const dictHeight = dictSize * 50;\n",
    "    let y = 50;\n",
    "    ctx.font = \"16px Arial\";\n",
    "    ctx.fillStyle = \"black\";\n",
    "    ctx.textAlign = \"left\";\n",
    "    ctx.fillText(\"Dictionary\", 10, y - 20);\n",
    "    for (let i = 0; i < dictSize; i++) {\n",
    "      ctx.fillStyle = \"lightgray\";\n",
    "      ctx.fillRect(10, y, 200, 30);\n",
    "      ctx.fillStyle = \"black\";\n",
    "      ctx.fillText(dictKeys[i], 20, y + 20);\n",
    "      ctx.fillText(dictValues[i], 120, y + 20);\n",
    "      y += 50;\n",
    "    }\n",
    "    y = dictHeight + 50;\n",
    "    ctx.fillText(\"Entries\", 10, y - 20);\n",
    "    for (let i = 0; i < dictSize; i++) {\n",
    "      ctx.fillStyle = \"lightgray\";\n",
    "      ctx.fillRect(10, y, 200, 30);\n",
    "      ctx.fillStyle = \"black\";\n",
    "      ctx.fillText(dictEntries[i][0], 20, y + 20);\n",
    "      ctx.fillText(dictEntries[i][1], 120, y + 20);\n",
    "      y += 50;\n",
    "    }\n",
    "  </script>\n",
    "</body>\n"
   ]
  }
 ],
 "metadata": {
  "kernelspec": {
   "display_name": "Python 3",
   "language": "python",
   "name": "python3"
  },
  "language_info": {
   "name": "python",
   "version": "3.11.0 (main, Oct 24 2022, 18:26:48) [MSC v.1933 64 bit (AMD64)]"
  },
  "orig_nbformat": 4,
  "vscode": {
   "interpreter": {
    "hash": "c261aea317cc0286b3b3261fbba9abdec21eaa57589985bb7a274bf54d6cc0a7"
   }
  }
 },
 "nbformat": 4,
 "nbformat_minor": 2
}
