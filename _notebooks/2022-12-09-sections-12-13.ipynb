{
 "cells": [
  {
   "attachments": {},
   "cell_type": "markdown",
   "metadata": {},
   "source": [
    "# Sections 12-13\n",
    "> Section 12 and 13 Hacks\n",
    "- toc: true\n",
    "- comments: true\n",
    "- permalink: /Hacks/procabs\n",
    "- categories: [Hacks]\n",
    "- tags: [Week 15]\n",
    "- image: images/pythonlogo.png"
   ]
  },
  {
   "attachments": {},
   "cell_type": "markdown",
   "metadata": {},
   "source": [
    "# Vocab\n",
    "<table>\n",
    "  <tr>\n",
    "    <th>Term</th>\n",
    "    <th>Definition</th>\n",
    "  </tr>\n",
    "  <tr>\n",
    "    <td>Method/Function/Procedure</td>\n",
    "    <td>A set of code that can be run as a package, that takes in parameters and returns a return value</td>\n",
    "  </tr>\n",
    "  <tr>\n",
    "    <td>Parameter</td>\n",
    "    <td>Input values for procedures</td>\n",
    "  </tr>\n",
    "  <tr>\n",
    "    <td>Modularity</td>\n",
    "    <td>named group of programming instructions that serves a purpose</td>\n",
    "  </tr>\n",
    "  <tr>\n",
    "    <td>Parameter</td>\n",
    "    <td>the practice of breaking a complex program into smaller, independent parts or modules that can be used and reused in different parts of the program</td>\n",
    "  </tr>\n",
    "</table>\n",
    "\n",
    "## Notes:\n",
    "- Make your names descriptive!\n",
    "- Make your program into smaller independent modules that can be used multiple times\n",
    "- Utilize update functions and recursive"
   ]
  },
  {
   "attachments": {},
   "cell_type": "markdown",
   "metadata": {},
   "source": [
    "# Activity 1\n",
    "\n",
    "```\n",
    "PROCEDURE goForwardX(X){\n",
    "    for i in range x {\n",
    "        MOVE_FORWARD)\n",
    "    }\n",
    "\n",
    "}\n",
    "\n",
    "goForwardX(6)\n",
    "ROTATE_RIGHT\n",
    "goForwardX(5)\n",
    "```"
   ]
  },
  {
   "attachments": {},
   "cell_type": "markdown",
   "metadata": {},
   "source": [
    "# Activity 2\n",
    "\n",
    "```\n",
    "PROCEDURE rotateDecide(){\n",
    "    if not CAN_MOVE(right){\n",
    "        ROTATE_LEFT()\n",
    "    }\n",
    "    if not CAN_MOVE(left){\n",
    "        ROTATE_RIGHT()\n",
    "    }\n",
    "}\n",
    "\n",
    "\n",
    "PROCEDURE goForwardThenTurn(X){\n",
    "    for i in range x {\n",
    "        MOVE_FORWARD)\n",
    "    }\n",
    "    ROTATE_RIGHT()\n",
    "    MOVE_FORWARD()\n",
    "    ROTATE_LEFT()\n",
    "}\n",
    "\n",
    "PROCEDURE goForwardX(X){\n",
    "    for i in range x {\n",
    "        MOVE_FORWARD())\n",
    "    }\n",
    "}\n",
    "\n",
    "goForwardThenTurn(2)\n",
    "goForwardThenTurn(3)\n",
    "moveForwardX(3)\n",
    "ROTATE_LEFT()\n",
    "moveForwardX(2)\n",
    "```"
   ]
  },
  {
   "attachments": {},
   "cell_type": "markdown",
   "metadata": {},
   "source": [
    "# Activity 3\n",
    "\n",
    "```\n",
    "INITIAL_SCORE = 25\n",
    "RETAKE_SCORE = 56\n",
    "PROCEDURE updateQuiz(init, new, total){\n",
    "    if new/total > init/total {\n",
    "        init <-- new\n",
    "    } \n",
    "}\n",
    "```"
   ]
  },
  {
   "attachments": {},
   "cell_type": "markdown",
   "metadata": {},
   "source": [
    "# Hacks"
   ]
  },
  {
   "attachments": {},
   "cell_type": "markdown",
   "metadata": {},
   "source": [
    "# Section 12"
   ]
  },
  {
   "attachments": {},
   "cell_type": "markdown",
   "metadata": {},
   "source": [
    "## Problem 1\n",
    "This code would display \n",
    "```python\n",
    "\"The minimum number is\"\n",
    "```\n",
    "\n",
    "This is because `minimum` is defined, but minimum is never displayed, and as a result the minimum number is not shown"
   ]
  },
  {
   "attachments": {},
   "cell_type": "markdown",
   "metadata": {},
   "source": [
    "## Problem 2\n",
    "\n",
    "The correct choice would be `PROCEDURE calcAvgSpeed (distance, time) { DISPLAY (time/distance) }`. As it matches the formula (total T/ total D). "
   ]
  },
  {
   "attachments": {},
   "cell_type": "markdown",
   "metadata": {},
   "source": [
    "## Problem 3\n",
    "`False`. This would not print anything out, as it does not display anything in the body of the procedure, and when the function is called it does not display the return value."
   ]
  },
  {
   "attachments": {},
   "cell_type": "markdown",
   "metadata": {},
   "source": [
    "## Problem 4\n",
    "\n",
    "`Answer 1`. This is because we calculate the total footprint individually, per flight, then complete the total by adding the two. Also `answer 3` as answer 3 first finds each individually, then adds the two up."
   ]
  },
  {
   "attachments": {},
   "cell_type": "markdown",
   "metadata": {},
   "source": [
    "# hacks section 12-13"
   ]
  },
  {
   "attachments": {},
   "cell_type": "markdown",
   "metadata": {},
   "source": [
    "# Problems 1/2/3\n",
    "\n",
    "- The first procedure would display the value 81\\*9 = `729`, because c is 9, and b = 9\\*9 (9**2 or 81), and 81\\*9\n",
    "- The second procedure would display `190`, as temp becomes 110, then divided by 100 to be 1.1. Then the cost (173) is multiplied by 1.1 to give 190.\n",
    "- The third procedure equals `39.44`, as first we subtract 32 then multiply by five-ninths."
   ]
  },
  {
   "attachments": {},
   "cell_type": "markdown",
   "metadata": {},
   "source": [
    "# 3.13 Homework/Hacks for Part 1 and Part 2 of the lesson"
   ]
  },
  {
   "cell_type": "code",
   "execution_count": 2,
   "metadata": {},
   "outputs": [
    {
     "name": "stdout",
     "output_type": "stream",
     "text": [
      "1260\n"
     ]
    }
   ],
   "source": [
    "def replaceRByards(toprbyardspg, currentrbyards, totalGames):\n",
    "    if ((toprbyardspg/totalGames) < (currentrbyards/totalGames)):\n",
    "        toprbyardspg = currentrbyards\n",
    "    print(toprbyardspg)\n",
    "\n",
    "replaceRByards(100, 1260, 12)"
   ]
  },
  {
   "attachments": {},
   "cell_type": "markdown",
   "metadata": {},
   "source": [
    "# Robot Puzzle:\n",
    "```\n",
    "PROCEDURE goForwardThenTurn(X, dir){\n",
    "    for i in range x {\n",
    "        MOVE_FORWARD)\n",
    "    }\n",
    "    if dir = \"right\"{\n",
    "         ROTATE_RIGHT()\n",
    "         MOVE_FORWARD()\n",
    "         ROTATE_LEFT()\n",
    "    }\n",
    "    else{\n",
    "        ROTATE_LEFT()\n",
    "         MOVE_FORWARD()\n",
    "         ROTATE_RIGHT()\n",
    "    }\n",
    "}\n",
    "\n",
    "PROCEDURE goForwardX(X){\n",
    "    for i in range x {\n",
    "        MOVE_FORWARD())\n",
    "    }\n",
    "}\n",
    "\n",
    "goForwardX(1)\n",
    "ROTATE_LEFT()\n",
    "goForwardThenTurn(2, right)\n",
    "goForwardThenTurn(2, left)\n",
    "goForwardThenTurn(1, left)\n",
    "goForwardThenTurn(2, right)\n",
    "goForwardX(1)\n",
    "ROTATE_RIGHT()\n",
    "goForwardX(2)\n",
    "```\n",
    "\n",
    "This will move the robot up, rotate it left. Then it moves up, rotates and moves right one extra, then the same, but to the left. Finally, it will move up one then move to the left one. Then it will move up 2 and move it right one. then it will go forwards, rotate right, then go forwards 2 through `goForwardX`"
   ]
  },
  {
   "attachments": {},
   "cell_type": "markdown",
   "metadata": {},
   "source": [
    "# What is the correct name of the procedure?\n",
    "\n",
    "A: PROCEDURE MYLIST. Technically, you can use the name MyList for a procedure, it is just that it still needs caps. using `procedure` in lowercase is not how collegeboard wants people to define procedures, and so PROCEDURE MYLIST (using full caps) is the best pick."
   ]
  },
  {
   "attachments": {},
   "cell_type": "markdown",
   "metadata": {},
   "source": [
    "# Second Robot Problem\n",
    "\n",
    "```\n",
    "PROCEDURE MoveForwardsUntil(direction, number){\n",
    "    while number != 0{\n",
    "        MOVE_FORWARD()\n",
    "        if direction = right{\n",
    "            if not CAN_MOVE(right){\n",
    "                number -= 1\n",
    "            }\n",
    "        }\n",
    "        else if direction = left {\n",
    "            if not CAN_MOVE(left){\n",
    "                number -= 1\n",
    "            }\n",
    "        }\n",
    "    }\n",
    "    MOVE_FORWARD()\n",
    "}\n",
    "\n",
    "ROTATE_RIGHT()\n",
    "MOVE_FORWARD()\n",
    "ROTATE_LEFT()\n",
    "MoveForwardsUntil(right, 3)\n",
    "\n",
    "ROTATE_LEFT()\n",
    "MOVE_FORWARD\n",
    "```\n",
    "The procedure here decrements `number` by one every single time it passes a black block by checking whether it can move that way. That way, we can count to see how many black blocks we pass. Then the procedure makes the robot move one forward to ensure it is lined up. "
   ]
  },
  {
   "attachments": {},
   "cell_type": "markdown",
   "metadata": {},
   "source": [
    "# Third Robot Problem\n",
    "\n",
    "```\n",
    "PROCEDURE FinishCourse(){\n",
    "    while not Goal_Completed{\n",
    "        if not CAN_MOVE(forward){\n",
    "            if CAN_MOVE(left){\n",
    "                ROTATE_LEFT()\n",
    "                MOVE_FORWARD()\n",
    "                ROTATE_RIGHT()\n",
    "            }\n",
    "            else if CAN_MOVE(right) {\n",
    "                ROTATE_RIGHT()\n",
    "                MOVE_FORWARD()\n",
    "                ROTATE_LEFT()\n",
    "            }\n",
    "            else{\n",
    "                ROTATE_RIGHT()\n",
    "                ROTATE_RIGHT()\n",
    "                MOVE_FORWARD()\n",
    "            }\n",
    "        }\n",
    "        MOVE_FORWARD()\n",
    "    }\n",
    "}\n",
    "\n",
    "FinishCourse()\n",
    "```\n",
    "\n",
    "This procedure works because it just asks the robot to move forward until it reaches an obstacle. If it does, then it check first to turn left (because in this case it is more optimal), then to turn right, at which it turns, moves up one (to dodge the obstacle) and then turns back to realign itself. This repeats until it reaches the top, at which point it turns left infinitely until it reaches the goal."
   ]
  },
  {
   "cell_type": "code",
   "execution_count": null,
   "metadata": {},
   "outputs": [],
   "source": []
  },
  {
   "attachments": {},
   "cell_type": "markdown",
   "metadata": {},
   "source": [
    "# Extra: Creating and finishing my own course\n",
    "\n",
    "### Code to Complete Course\n",
    "```\n",
    "PROCEDURE TurnXDeg(times_To_turn){\n",
    "    for i in range(times_To_turn){\n",
    "        ROTATE_RIGHT()\n",
    "    }\n",
    "}\n",
    "\n",
    "PROCEDURE goForwardX(X){\n",
    "    for i in range x {\n",
    "        MOVE_FORWARD())\n",
    "    }\n",
    "}\n",
    "\n",
    "TurnXDeg(2)\n",
    "goForwardX(2)\n",
    "TurnXDeg(1)\n",
    "goForwardX(4)\n",
    "TurnXDeg(1)\n",
    "goForwardX(3)\n",
    "TurnXDeg(1)\n",
    "goForwardX(2)\n",
    "TurnXDeg(3)\n",
    "MOVE_FORWARD()\n",
    "TurnXDeg(1)\n",
    "goForward(2)\n",
    "```\n",
    "This just uses some simple compound function to repeat certain actions a certain amount of times to complete tasks.\n"
   ]
  },
  {
   "cell_type": "code",
   "execution_count": 3,
   "metadata": {},
   "outputs": [
    {
     "name": "stdout",
     "output_type": "stream",
     "text": [
      "Course to Finish:\n"
     ]
    },
    {
     "data": {
      "image/png": "[encoded data removed]",
      "text/plain": [
       "<PIL.PngImagePlugin.PngImageFile image mode=RGBA size=182x181>"
      ]
     },
     "metadata": {},
     "output_type": "display_data"
    }
   ],
   "source": [
    "from PIL import Image\n",
    "\n",
    "im = Image.open(\"../images/sugma.png\")\n",
    "print(\"Course to Finish:\")\n",
    "display(im)"
   ]
  }
 ],
 "metadata": {
  "kernelspec": {
   "display_name": "Python 3.10.8 64-bit (windows store)",
   "language": "python",
   "name": "python3"
  },
  "language_info": {
   "codemirror_mode": {
    "name": "ipython",
    "version": 3
   },
   "file_extension": ".py",
   "mimetype": "text/x-python",
   "name": "python",
   "nbconvert_exporter": "python",
   "pygments_lexer": "ipython3",
   "version": "3.10.8"
  },
  "orig_nbformat": 4,
  "vscode": {
   "interpreter": {
    "hash": "1d2dc5dcf990aaa47f7fbd56bffb5f58fda4d3a3977db6fc2dd988cdc560c2e3"
   }
  }
 },
 "nbformat": 4,
 "nbformat_minor": 2
}
